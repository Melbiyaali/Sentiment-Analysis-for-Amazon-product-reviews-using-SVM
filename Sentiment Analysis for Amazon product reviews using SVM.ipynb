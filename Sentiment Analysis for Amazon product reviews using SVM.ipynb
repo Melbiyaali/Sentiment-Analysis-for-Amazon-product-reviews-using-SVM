{
 "cells": [
  {
   "cell_type": "markdown",
   "id": "ea8092e6",
   "metadata": {},
   "source": [
    "# Libraries"
   ]
  },
  {
   "cell_type": "code",
   "execution_count": 54,
   "id": "145bef3b",
   "metadata": {},
   "outputs": [],
   "source": [
    "import pandas as pd\n",
    "from nltk.corpus import wordnet\n",
    "import nltk\n",
    "import warnings\n",
    "warnings.filterwarnings(\"ignore\",category=DeprecationWarning)\n",
    "import string\n",
    "from nltk import pos_tag\n",
    "from nltk.corpus import stopwords\n",
    "from nltk.tokenize import WhitespaceTokenizer\n",
    "from nltk.stem import WordNetLemmatizer\n",
    "import plotly.express as px\n",
    "from wordcloud import WordCloud\n",
    "import matplotlib.pyplot as plt\n",
    "from sklearn.model_selection import train_test_split, StratifiedKFold, cross_val_score\n",
    "import numpy as np\n",
    "from sklearn.pipeline import make_pipeline, Pipeline\n",
    "from sklearn.feature_extraction.text import CountVectorizer, TfidfTransformer\n",
    "from sklearn.svm import SVC\n",
    "from sklearn.model_selection import GridSearchCV\n",
    "from sklearn.metrics import confusion_matrix, roc_auc_score, recall_score, precision_score\n",
    "from sklearn.metrics import make_scorer, accuracy_score, f1_score\n",
    "from sklearn.metrics import roc_curve, auc"
   ]
  },
  {
   "cell_type": "markdown",
   "id": "ce87dea8",
   "metadata": {},
   "source": [
    "# Data Preparation"
   ]
  },
  {
   "cell_type": "code",
   "execution_count": 55,
   "id": "401a75fa",
   "metadata": {},
   "outputs": [
    {
     "data": {
      "text/html": [
       "<div>\n",
       "<style scoped>\n",
       "    .dataframe tbody tr th:only-of-type {\n",
       "        vertical-align: middle;\n",
       "    }\n",
       "\n",
       "    .dataframe tbody tr th {\n",
       "        vertical-align: top;\n",
       "    }\n",
       "\n",
       "    .dataframe thead th {\n",
       "        text-align: right;\n",
       "    }\n",
       "</style>\n",
       "<table border=\"1\" class=\"dataframe\">\n",
       "  <thead>\n",
       "    <tr style=\"text-align: right;\">\n",
       "      <th></th>\n",
       "      <th>Unnamed: 0</th>\n",
       "      <th>Rating</th>\n",
       "      <th>Lang</th>\n",
       "      <th>Type</th>\n",
       "      <th>Country</th>\n",
       "      <th>Date</th>\n",
       "      <th>Helpful</th>\n",
       "      <th>translated</th>\n",
       "    </tr>\n",
       "  </thead>\n",
       "  <tbody>\n",
       "    <tr>\n",
       "      <th>0</th>\n",
       "      <td>72</td>\n",
       "      <td>5</td>\n",
       "      <td>it</td>\n",
       "      <td>Verified</td>\n",
       "      <td>Italy</td>\n",
       "      <td>11/1/2020</td>\n",
       "      <td>43.0</td>\n",
       "      <td>What to say? My daughter LOVES him and I with ...</td>\n",
       "    </tr>\n",
       "    <tr>\n",
       "      <th>1</th>\n",
       "      <td>85</td>\n",
       "      <td>5</td>\n",
       "      <td>it</td>\n",
       "      <td>Not Verified</td>\n",
       "      <td>Italy</td>\n",
       "      <td>9/10/2019</td>\n",
       "      <td>36.0</td>\n",
       "      <td>I decided to test this plush to my grandson, j...</td>\n",
       "    </tr>\n",
       "    <tr>\n",
       "      <th>2</th>\n",
       "      <td>107</td>\n",
       "      <td>5</td>\n",
       "      <td>it</td>\n",
       "      <td>Verified</td>\n",
       "      <td>Italy</td>\n",
       "      <td>8/12/2019</td>\n",
       "      <td>2.0</td>\n",
       "      <td>An unusual pet, this otter is beautiful! Cute ...</td>\n",
       "    </tr>\n",
       "    <tr>\n",
       "      <th>3</th>\n",
       "      <td>109</td>\n",
       "      <td>4</td>\n",
       "      <td>it</td>\n",
       "      <td>Verified</td>\n",
       "      <td>Italy</td>\n",
       "      <td>4/2/2021</td>\n",
       "      <td>1.0</td>\n",
       "      <td>Beautiful, soft and very relaxing. It comes wi...</td>\n",
       "    </tr>\n",
       "    <tr>\n",
       "      <th>4</th>\n",
       "      <td>113</td>\n",
       "      <td>4</td>\n",
       "      <td>it</td>\n",
       "      <td>Verified</td>\n",
       "      <td>Italy</td>\n",
       "      <td>21/02/2020</td>\n",
       "      <td>2.0</td>\n",
       "      <td>Plush tender, my 16-month-old loves it, sleeps...</td>\n",
       "    </tr>\n",
       "    <tr>\n",
       "      <th>...</th>\n",
       "      <td>...</td>\n",
       "      <td>...</td>\n",
       "      <td>...</td>\n",
       "      <td>...</td>\n",
       "      <td>...</td>\n",
       "      <td>...</td>\n",
       "      <td>...</td>\n",
       "      <td>...</td>\n",
       "    </tr>\n",
       "    <tr>\n",
       "      <th>1530</th>\n",
       "      <td>1310</td>\n",
       "      <td>5</td>\n",
       "      <td>fr</td>\n",
       "      <td>Verified</td>\n",
       "      <td>France</td>\n",
       "      <td>18/12/2019</td>\n",
       "      <td>NaN</td>\n",
       "      <td>Great I recommend</td>\n",
       "    </tr>\n",
       "    <tr>\n",
       "      <th>1531</th>\n",
       "      <td>1311</td>\n",
       "      <td>5</td>\n",
       "      <td>fr</td>\n",
       "      <td>Verified</td>\n",
       "      <td>France</td>\n",
       "      <td>26/10/2020</td>\n",
       "      <td>NaN</td>\n",
       "      <td>odee gift</td>\n",
       "    </tr>\n",
       "    <tr>\n",
       "      <th>1532</th>\n",
       "      <td>1312</td>\n",
       "      <td>5</td>\n",
       "      <td>fr</td>\n",
       "      <td>Verified</td>\n",
       "      <td>France</td>\n",
       "      <td>27/01/2020</td>\n",
       "      <td>NaN</td>\n",
       "      <td>Gift noel bb</td>\n",
       "    </tr>\n",
       "    <tr>\n",
       "      <th>1533</th>\n",
       "      <td>1313</td>\n",
       "      <td>5</td>\n",
       "      <td>fr</td>\n",
       "      <td>Verified</td>\n",
       "      <td>France</td>\n",
       "      <td>23/12/2019</td>\n",
       "      <td>NaN</td>\n",
       "      <td>Super plush</td>\n",
       "    </tr>\n",
       "    <tr>\n",
       "      <th>1534</th>\n",
       "      <td>1545</td>\n",
       "      <td>5</td>\n",
       "      <td>fr</td>\n",
       "      <td>Verified</td>\n",
       "      <td>France</td>\n",
       "      <td>9/12/2019</td>\n",
       "      <td>NaN</td>\n",
       "      <td>Sweet</td>\n",
       "    </tr>\n",
       "  </tbody>\n",
       "</table>\n",
       "<p>1535 rows × 8 columns</p>\n",
       "</div>"
      ],
      "text/plain": [
       "      Unnamed: 0  Rating Lang          Type Country        Date  Helpful  \\\n",
       "0             72       5   it      Verified   Italy   11/1/2020     43.0   \n",
       "1             85       5   it  Not Verified   Italy   9/10/2019     36.0   \n",
       "2            107       5   it      Verified   Italy   8/12/2019      2.0   \n",
       "3            109       4   it      Verified   Italy    4/2/2021      1.0   \n",
       "4            113       4   it      Verified   Italy  21/02/2020      2.0   \n",
       "...          ...     ...  ...           ...     ...         ...      ...   \n",
       "1530        1310       5   fr      Verified  France  18/12/2019      NaN   \n",
       "1531        1311       5   fr      Verified  France  26/10/2020      NaN   \n",
       "1532        1312       5   fr      Verified  France  27/01/2020      NaN   \n",
       "1533        1313       5   fr      Verified  France  23/12/2019      NaN   \n",
       "1534        1545       5   fr      Verified  France   9/12/2019      NaN   \n",
       "\n",
       "                                             translated  \n",
       "0     What to say? My daughter LOVES him and I with ...  \n",
       "1     I decided to test this plush to my grandson, j...  \n",
       "2     An unusual pet, this otter is beautiful! Cute ...  \n",
       "3     Beautiful, soft and very relaxing. It comes wi...  \n",
       "4     Plush tender, my 16-month-old loves it, sleeps...  \n",
       "...                                                 ...  \n",
       "1530                                  Great I recommend  \n",
       "1531                                          odee gift  \n",
       "1532                                       Gift noel bb  \n",
       "1533                                        Super plush  \n",
       "1534                                              Sweet  \n",
       "\n",
       "[1535 rows x 8 columns]"
      ]
     },
     "execution_count": 55,
     "metadata": {},
     "output_type": "execute_result"
    }
   ],
   "source": [
    "# Import data\n",
    "df = pd.read_csv('/Users/khalil/Desktop/NLP/Reviews And Ratings.csv')\n",
    "df"
   ]
  },
  {
   "cell_type": "code",
   "execution_count": 56,
   "id": "bc36cfdf",
   "metadata": {},
   "outputs": [],
   "source": [
    "df = df[df['Rating'] != 0]\n",
    "#Creating Positive & Negative sentiments as POSITIVE and NEGATIVE according to rating\n",
    "df['sentiment'] = df['Rating'].apply(lambda rating : 1 if rating >= 4 else 0)"
   ]
  },
  {
   "cell_type": "code",
   "execution_count": 57,
   "id": "7b4b9d20",
   "metadata": {},
   "outputs": [],
   "source": [
    "positive = df[df['sentiment'] == 1]\n",
    "negative = df[df['sentiment'] == 0]"
   ]
  },
  {
   "cell_type": "code",
   "execution_count": 58,
   "id": "3bfb4a39",
   "metadata": {},
   "outputs": [
    {
     "data": {
      "text/html": [
       "<div>\n",
       "<style scoped>\n",
       "    .dataframe tbody tr th:only-of-type {\n",
       "        vertical-align: middle;\n",
       "    }\n",
       "\n",
       "    .dataframe tbody tr th {\n",
       "        vertical-align: top;\n",
       "    }\n",
       "\n",
       "    .dataframe thead th {\n",
       "        text-align: right;\n",
       "    }\n",
       "</style>\n",
       "<table border=\"1\" class=\"dataframe\">\n",
       "  <thead>\n",
       "    <tr style=\"text-align: right;\">\n",
       "      <th></th>\n",
       "      <th>translated</th>\n",
       "      <th>sentiment</th>\n",
       "    </tr>\n",
       "  </thead>\n",
       "  <tbody>\n",
       "    <tr>\n",
       "      <th>0</th>\n",
       "      <td>What to say? My daughter LOVES him and I with ...</td>\n",
       "      <td>1</td>\n",
       "    </tr>\n",
       "    <tr>\n",
       "      <th>1</th>\n",
       "      <td>I decided to test this plush to my grandson, j...</td>\n",
       "      <td>1</td>\n",
       "    </tr>\n",
       "    <tr>\n",
       "      <th>2</th>\n",
       "      <td>An unusual pet, this otter is beautiful! Cute ...</td>\n",
       "      <td>1</td>\n",
       "    </tr>\n",
       "    <tr>\n",
       "      <th>3</th>\n",
       "      <td>Beautiful, soft and very relaxing. It comes wi...</td>\n",
       "      <td>1</td>\n",
       "    </tr>\n",
       "    <tr>\n",
       "      <th>4</th>\n",
       "      <td>Plush tender, my 16-month-old loves it, sleeps...</td>\n",
       "      <td>1</td>\n",
       "    </tr>\n",
       "  </tbody>\n",
       "</table>\n",
       "</div>"
      ],
      "text/plain": [
       "                                          translated  sentiment\n",
       "0  What to say? My daughter LOVES him and I with ...          1\n",
       "1  I decided to test this plush to my grandson, j...          1\n",
       "2  An unusual pet, this otter is beautiful! Cute ...          1\n",
       "3  Beautiful, soft and very relaxing. It comes wi...          1\n",
       "4  Plush tender, my 16-month-old loves it, sleeps...          1"
      ]
     },
     "execution_count": 58,
     "metadata": {},
     "output_type": "execute_result"
    }
   ],
   "source": [
    "dfNew = df[['translated','sentiment']]\n",
    "dfNew.head()"
   ]
  },
  {
   "cell_type": "markdown",
   "id": "76c21c46",
   "metadata": {},
   "source": [
    "# Preprocessing and data cleaning "
   ]
  },
  {
   "cell_type": "code",
   "execution_count": 59,
   "id": "e78a19b6",
   "metadata": {},
   "outputs": [
    {
     "name": "stderr",
     "output_type": "stream",
     "text": [
      "/var/folders/0g/4ffgvpkj3gj_tfnmlbcwlll40000gn/T/ipykernel_9749/2440289575.py:37: SettingWithCopyWarning:\n",
      "\n",
      "\n",
      "A value is trying to be set on a copy of a slice from a DataFrame.\n",
      "Try using .loc[row_indexer,col_indexer] = value instead\n",
      "\n",
      "See the caveats in the documentation: https://pandas.pydata.org/pandas-docs/stable/user_guide/indexing.html#returning-a-view-versus-a-copy\n",
      "\n"
     ]
    }
   ],
   "source": [
    "def get_wordnet_pos(pos_tag):\n",
    "    if pos_tag.startswith('J'):\n",
    "        return wordnet.ADJ\n",
    "    elif pos_tag.startswith('V'):\n",
    "        return wordnet.VERB\n",
    "    elif pos_tag.startswith('N'):\n",
    "        return wordnet.NOUN\n",
    "    elif pos_tag.startswith('R'):\n",
    "        return wordnet.ADV\n",
    "    else:\n",
    "        return wordnet.NOUN\n",
    "\n",
    "# return the wordnet object value corresponding to the POS tag\n",
    "def clean_text(text):\n",
    "    # lower text\n",
    "    text = text.lower()\n",
    "    # tokenize text and remove puncutation\n",
    "    text = [word.strip(string.punctuation) for word in text.split(\" \")]\n",
    "    # remove words that contain numbers\n",
    "    text = [word for word in text if not any(c.isdigit() for c in word)]\n",
    "    # remove stop words\n",
    "    stop = stopwords.words('english')\n",
    "    text = [x for x in text if x not in stop]\n",
    "    # remove empty tokens\n",
    "    text = [t for t in text if len(t) > 0]\n",
    "    # pos tag text\n",
    "    pos_tags = pos_tag(text)\n",
    "    # lemmatize text\n",
    "    text = [WordNetLemmatizer().lemmatize(t[0], get_wordnet_pos(t[1])) for t in pos_tags]\n",
    "    # remove words with only one letter\n",
    "    text = [t for t in text if len(t) > 1]\n",
    "    # join all\n",
    "    text = \" \".join(text)\n",
    "    return(text)\n",
    "\n",
    "# clean text data\n",
    "dfNew[\"review_clean\"] = dfNew[\"translated\"].apply(lambda x: clean_text(x))"
   ]
  },
  {
   "cell_type": "code",
   "execution_count": 60,
   "id": "d85f16ae",
   "metadata": {},
   "outputs": [
    {
     "data": {
      "text/html": [
       "<div>\n",
       "<style scoped>\n",
       "    .dataframe tbody tr th:only-of-type {\n",
       "        vertical-align: middle;\n",
       "    }\n",
       "\n",
       "    .dataframe tbody tr th {\n",
       "        vertical-align: top;\n",
       "    }\n",
       "\n",
       "    .dataframe thead th {\n",
       "        text-align: right;\n",
       "    }\n",
       "</style>\n",
       "<table border=\"1\" class=\"dataframe\">\n",
       "  <thead>\n",
       "    <tr style=\"text-align: right;\">\n",
       "      <th></th>\n",
       "      <th>translated</th>\n",
       "      <th>sentiment</th>\n",
       "      <th>review_clean</th>\n",
       "    </tr>\n",
       "  </thead>\n",
       "  <tbody>\n",
       "    <tr>\n",
       "      <th>0</th>\n",
       "      <td>What to say? My daughter LOVES him and I with ...</td>\n",
       "      <td>1</td>\n",
       "      <td>say daughter love soft zero visible seam tende...</td>\n",
       "    </tr>\n",
       "    <tr>\n",
       "      <th>1</th>\n",
       "      <td>I decided to test this plush to my grandson, j...</td>\n",
       "      <td>1</td>\n",
       "      <td>decided test plush grandson three year old soo...</td>\n",
       "    </tr>\n",
       "    <tr>\n",
       "      <th>2</th>\n",
       "      <td>An unusual pet, this otter is beautiful! Cute ...</td>\n",
       "      <td>1</td>\n",
       "      <td>unusual pet otter beautiful cute melody light ...</td>\n",
       "    </tr>\n",
       "    <tr>\n",
       "      <th>3</th>\n",
       "      <td>Beautiful, soft and very relaxing. It comes wi...</td>\n",
       "      <td>1</td>\n",
       "      <td>beautiful soft relaxing come behind back key s...</td>\n",
       "    </tr>\n",
       "    <tr>\n",
       "      <th>4</th>\n",
       "      <td>Plush tender, my 16-month-old loves it, sleeps...</td>\n",
       "      <td>1</td>\n",
       "      <td>plush tender love sleep hug cuddle even wake p...</td>\n",
       "    </tr>\n",
       "    <tr>\n",
       "      <th>...</th>\n",
       "      <td>...</td>\n",
       "      <td>...</td>\n",
       "      <td>...</td>\n",
       "    </tr>\n",
       "    <tr>\n",
       "      <th>1530</th>\n",
       "      <td>Great I recommend</td>\n",
       "      <td>1</td>\n",
       "      <td>great recommend</td>\n",
       "    </tr>\n",
       "    <tr>\n",
       "      <th>1531</th>\n",
       "      <td>odee gift</td>\n",
       "      <td>1</td>\n",
       "      <td>odee gift</td>\n",
       "    </tr>\n",
       "    <tr>\n",
       "      <th>1532</th>\n",
       "      <td>Gift noel bb</td>\n",
       "      <td>1</td>\n",
       "      <td>gift noel bb</td>\n",
       "    </tr>\n",
       "    <tr>\n",
       "      <th>1533</th>\n",
       "      <td>Super plush</td>\n",
       "      <td>1</td>\n",
       "      <td>super plush</td>\n",
       "    </tr>\n",
       "    <tr>\n",
       "      <th>1534</th>\n",
       "      <td>Sweet</td>\n",
       "      <td>1</td>\n",
       "      <td>sweet</td>\n",
       "    </tr>\n",
       "  </tbody>\n",
       "</table>\n",
       "<p>1535 rows × 3 columns</p>\n",
       "</div>"
      ],
      "text/plain": [
       "                                             translated  sentiment  \\\n",
       "0     What to say? My daughter LOVES him and I with ...          1   \n",
       "1     I decided to test this plush to my grandson, j...          1   \n",
       "2     An unusual pet, this otter is beautiful! Cute ...          1   \n",
       "3     Beautiful, soft and very relaxing. It comes wi...          1   \n",
       "4     Plush tender, my 16-month-old loves it, sleeps...          1   \n",
       "...                                                 ...        ...   \n",
       "1530                                  Great I recommend          1   \n",
       "1531                                          odee gift          1   \n",
       "1532                                       Gift noel bb          1   \n",
       "1533                                        Super plush          1   \n",
       "1534                                              Sweet          1   \n",
       "\n",
       "                                           review_clean  \n",
       "0     say daughter love soft zero visible seam tende...  \n",
       "1     decided test plush grandson three year old soo...  \n",
       "2     unusual pet otter beautiful cute melody light ...  \n",
       "3     beautiful soft relaxing come behind back key s...  \n",
       "4     plush tender love sleep hug cuddle even wake p...  \n",
       "...                                                 ...  \n",
       "1530                                    great recommend  \n",
       "1531                                          odee gift  \n",
       "1532                                       gift noel bb  \n",
       "1533                                        super plush  \n",
       "1534                                              sweet  \n",
       "\n",
       "[1535 rows x 3 columns]"
      ]
     },
     "execution_count": 60,
     "metadata": {},
     "output_type": "execute_result"
    }
   ],
   "source": [
    "dfNew"
   ]
  },
  {
   "cell_type": "markdown",
   "id": "ad6c639c",
   "metadata": {},
   "source": [
    "# EDA"
   ]
  },
  {
   "cell_type": "markdown",
   "id": "2b6c89a3",
   "metadata": {},
   "source": [
    "In order to have a better understanding of our data, let's explore it a little:"
   ]
  },
  {
   "cell_type": "code",
   "execution_count": 61,
   "id": "c10b5359",
   "metadata": {},
   "outputs": [
    {
     "data": {
      "text/plain": [
       "1    0.848208\n",
       "0    0.151792\n",
       "Name: sentiment, dtype: float64"
      ]
     },
     "execution_count": 61,
     "metadata": {},
     "output_type": "execute_result"
    }
   ],
   "source": [
    "dfNew[\"sentiment\"].value_counts(normalize = True)"
   ]
  },
  {
   "cell_type": "code",
   "execution_count": 62,
   "id": "a9656db7",
   "metadata": {},
   "outputs": [
    {
     "data": {
      "application/vnd.plotly.v1+json": {
       "config": {
        "plotlyServerURL": "https://plot.ly"
       },
       "data": [
        {
         "alignmentgroup": "True",
         "bingroup": "x",
         "hovertemplate": "sentimentt=%{x}<br>count=%{y}<extra></extra>",
         "legendgroup": "",
         "marker": {
          "color": "indianred",
          "line": {
           "color": "rgb(8,48,107)",
           "width": 1.5
          },
          "pattern": {
           "shape": ""
          }
         },
         "name": "",
         "offsetgroup": "",
         "orientation": "v",
         "showlegend": false,
         "type": "histogram",
         "x": [
          "POSITIVE",
          "POSITIVE",
          "POSITIVE",
          "POSITIVE",
          "POSITIVE",
          "POSITIVE",
          "POSITIVE",
          "POSITIVE",
          "POSITIVE",
          "NEGATIVE",
          "POSITIVE",
          "POSITIVE",
          "POSITIVE",
          "POSITIVE",
          "POSITIVE",
          "POSITIVE",
          "POSITIVE",
          "POSITIVE",
          "POSITIVE",
          "POSITIVE",
          "POSITIVE",
          "POSITIVE",
          "POSITIVE",
          "POSITIVE",
          "POSITIVE",
          "POSITIVE",
          "POSITIVE",
          "NEGATIVE",
          "NEGATIVE",
          "POSITIVE",
          "POSITIVE",
          "POSITIVE",
          "POSITIVE",
          "POSITIVE",
          "POSITIVE",
          "POSITIVE",
          "POSITIVE",
          "NEGATIVE",
          "POSITIVE",
          "POSITIVE",
          "POSITIVE",
          "NEGATIVE",
          "NEGATIVE",
          "NEGATIVE",
          "POSITIVE",
          "POSITIVE",
          "POSITIVE",
          "POSITIVE",
          "POSITIVE",
          "POSITIVE",
          "POSITIVE",
          "POSITIVE",
          "POSITIVE",
          "POSITIVE",
          "POSITIVE",
          "POSITIVE",
          "POSITIVE",
          "POSITIVE",
          "POSITIVE",
          "POSITIVE",
          "POSITIVE",
          "POSITIVE",
          "POSITIVE",
          "POSITIVE",
          "POSITIVE",
          "POSITIVE",
          "POSITIVE",
          "POSITIVE",
          "NEGATIVE",
          "POSITIVE",
          "POSITIVE",
          "POSITIVE",
          "POSITIVE",
          "POSITIVE",
          "POSITIVE",
          "POSITIVE",
          "POSITIVE",
          "POSITIVE",
          "POSITIVE",
          "POSITIVE",
          "POSITIVE",
          "POSITIVE",
          "NEGATIVE",
          "POSITIVE",
          "POSITIVE",
          "POSITIVE",
          "POSITIVE",
          "POSITIVE",
          "POSITIVE",
          "POSITIVE",
          "POSITIVE",
          "POSITIVE",
          "POSITIVE",
          "POSITIVE",
          "POSITIVE",
          "POSITIVE",
          "POSITIVE",
          "POSITIVE",
          "POSITIVE",
          "POSITIVE",
          "POSITIVE",
          "POSITIVE",
          "POSITIVE",
          "POSITIVE",
          "POSITIVE",
          "POSITIVE",
          "POSITIVE",
          "POSITIVE",
          "POSITIVE",
          "POSITIVE",
          "POSITIVE",
          "POSITIVE",
          "POSITIVE",
          "POSITIVE",
          "POSITIVE",
          "POSITIVE",
          "POSITIVE",
          "POSITIVE",
          "NEGATIVE",
          "NEGATIVE",
          "POSITIVE",
          "POSITIVE",
          "POSITIVE",
          "POSITIVE",
          "POSITIVE",
          "NEGATIVE",
          "POSITIVE",
          "POSITIVE",
          "POSITIVE",
          "POSITIVE",
          "POSITIVE",
          "POSITIVE",
          "POSITIVE",
          "POSITIVE",
          "POSITIVE",
          "NEGATIVE",
          "POSITIVE",
          "POSITIVE",
          "POSITIVE",
          "POSITIVE",
          "POSITIVE",
          "POSITIVE",
          "NEGATIVE",
          "POSITIVE",
          "POSITIVE",
          "POSITIVE",
          "POSITIVE",
          "POSITIVE",
          "POSITIVE",
          "POSITIVE",
          "POSITIVE",
          "POSITIVE",
          "POSITIVE",
          "POSITIVE",
          "POSITIVE",
          "POSITIVE",
          "POSITIVE",
          "NEGATIVE",
          "POSITIVE",
          "NEGATIVE",
          "POSITIVE",
          "NEGATIVE",
          "POSITIVE",
          "POSITIVE",
          "POSITIVE",
          "POSITIVE",
          "POSITIVE",
          "POSITIVE",
          "POSITIVE",
          "POSITIVE",
          "POSITIVE",
          "POSITIVE",
          "NEGATIVE",
          "POSITIVE",
          "POSITIVE",
          "POSITIVE",
          "NEGATIVE",
          "POSITIVE",
          "POSITIVE",
          "NEGATIVE",
          "NEGATIVE",
          "NEGATIVE",
          "POSITIVE",
          "POSITIVE",
          "POSITIVE",
          "POSITIVE",
          "POSITIVE",
          "POSITIVE",
          "POSITIVE",
          "NEGATIVE",
          "POSITIVE",
          "POSITIVE",
          "NEGATIVE",
          "POSITIVE",
          "POSITIVE",
          "POSITIVE",
          "POSITIVE",
          "POSITIVE",
          "POSITIVE",
          "POSITIVE",
          "POSITIVE",
          "POSITIVE",
          "POSITIVE",
          "POSITIVE",
          "POSITIVE",
          "POSITIVE",
          "POSITIVE",
          "POSITIVE",
          "NEGATIVE",
          "POSITIVE",
          "POSITIVE",
          "POSITIVE",
          "POSITIVE",
          "POSITIVE",
          "POSITIVE",
          "POSITIVE",
          "POSITIVE",
          "POSITIVE",
          "POSITIVE",
          "POSITIVE",
          "POSITIVE",
          "POSITIVE",
          "POSITIVE",
          "POSITIVE",
          "POSITIVE",
          "POSITIVE",
          "NEGATIVE",
          "POSITIVE",
          "NEGATIVE",
          "NEGATIVE",
          "POSITIVE",
          "POSITIVE",
          "POSITIVE",
          "NEGATIVE",
          "POSITIVE",
          "NEGATIVE",
          "POSITIVE",
          "POSITIVE",
          "POSITIVE",
          "POSITIVE",
          "POSITIVE",
          "POSITIVE",
          "NEGATIVE",
          "POSITIVE",
          "NEGATIVE",
          "POSITIVE",
          "NEGATIVE",
          "POSITIVE",
          "NEGATIVE",
          "POSITIVE",
          "POSITIVE",
          "POSITIVE",
          "NEGATIVE",
          "NEGATIVE",
          "NEGATIVE",
          "POSITIVE",
          "POSITIVE",
          "POSITIVE",
          "POSITIVE",
          "NEGATIVE",
          "NEGATIVE",
          "POSITIVE",
          "POSITIVE",
          "POSITIVE",
          "POSITIVE",
          "POSITIVE",
          "POSITIVE",
          "POSITIVE",
          "NEGATIVE",
          "NEGATIVE",
          "POSITIVE",
          "POSITIVE",
          "POSITIVE",
          "POSITIVE",
          "NEGATIVE",
          "NEGATIVE",
          "POSITIVE",
          "NEGATIVE",
          "POSITIVE",
          "POSITIVE",
          "POSITIVE",
          "POSITIVE",
          "POSITIVE",
          "POSITIVE",
          "POSITIVE",
          "POSITIVE",
          "POSITIVE",
          "POSITIVE",
          "POSITIVE",
          "POSITIVE",
          "POSITIVE",
          "NEGATIVE",
          "POSITIVE",
          "NEGATIVE",
          "POSITIVE",
          "POSITIVE",
          "POSITIVE",
          "POSITIVE",
          "POSITIVE",
          "POSITIVE",
          "POSITIVE",
          "NEGATIVE",
          "NEGATIVE",
          "POSITIVE",
          "POSITIVE",
          "POSITIVE",
          "POSITIVE",
          "POSITIVE",
          "POSITIVE",
          "POSITIVE",
          "POSITIVE",
          "POSITIVE",
          "POSITIVE",
          "POSITIVE",
          "NEGATIVE",
          "NEGATIVE",
          "POSITIVE",
          "POSITIVE",
          "POSITIVE",
          "POSITIVE",
          "NEGATIVE",
          "POSITIVE",
          "POSITIVE",
          "POSITIVE",
          "POSITIVE",
          "POSITIVE",
          "POSITIVE",
          "NEGATIVE",
          "POSITIVE",
          "POSITIVE",
          "POSITIVE",
          "POSITIVE",
          "NEGATIVE",
          "POSITIVE",
          "POSITIVE",
          "POSITIVE",
          "POSITIVE",
          "POSITIVE",
          "POSITIVE",
          "POSITIVE",
          "POSITIVE",
          "POSITIVE",
          "POSITIVE",
          "POSITIVE",
          "POSITIVE",
          "POSITIVE",
          "POSITIVE",
          "POSITIVE",
          "POSITIVE",
          "POSITIVE",
          "NEGATIVE",
          "POSITIVE",
          "POSITIVE",
          "POSITIVE",
          "POSITIVE",
          "POSITIVE",
          "NEGATIVE",
          "NEGATIVE",
          "POSITIVE",
          "POSITIVE",
          "POSITIVE",
          "POSITIVE",
          "NEGATIVE",
          "POSITIVE",
          "POSITIVE",
          "POSITIVE",
          "POSITIVE",
          "POSITIVE",
          "POSITIVE",
          "POSITIVE",
          "POSITIVE",
          "POSITIVE",
          "POSITIVE",
          "POSITIVE",
          "POSITIVE",
          "POSITIVE",
          "POSITIVE",
          "POSITIVE",
          "POSITIVE",
          "POSITIVE",
          "POSITIVE",
          "POSITIVE",
          "NEGATIVE",
          "POSITIVE",
          "POSITIVE",
          "POSITIVE",
          "POSITIVE",
          "POSITIVE",
          "POSITIVE",
          "POSITIVE",
          "NEGATIVE",
          "POSITIVE",
          "POSITIVE",
          "POSITIVE",
          "POSITIVE",
          "NEGATIVE",
          "POSITIVE",
          "POSITIVE",
          "POSITIVE",
          "POSITIVE",
          "POSITIVE",
          "POSITIVE",
          "POSITIVE",
          "POSITIVE",
          "POSITIVE",
          "POSITIVE",
          "POSITIVE",
          "POSITIVE",
          "POSITIVE",
          "POSITIVE",
          "POSITIVE",
          "POSITIVE",
          "POSITIVE",
          "POSITIVE",
          "POSITIVE",
          "POSITIVE",
          "POSITIVE",
          "POSITIVE",
          "POSITIVE",
          "POSITIVE",
          "POSITIVE",
          "POSITIVE",
          "POSITIVE",
          "POSITIVE",
          "POSITIVE",
          "POSITIVE",
          "POSITIVE",
          "NEGATIVE",
          "POSITIVE",
          "POSITIVE",
          "POSITIVE",
          "POSITIVE",
          "POSITIVE",
          "POSITIVE",
          "POSITIVE",
          "POSITIVE",
          "NEGATIVE",
          "POSITIVE",
          "POSITIVE",
          "POSITIVE",
          "POSITIVE",
          "POSITIVE",
          "POSITIVE",
          "NEGATIVE",
          "POSITIVE",
          "POSITIVE",
          "NEGATIVE",
          "POSITIVE",
          "POSITIVE",
          "POSITIVE",
          "POSITIVE",
          "POSITIVE",
          "POSITIVE",
          "POSITIVE",
          "POSITIVE",
          "POSITIVE",
          "POSITIVE",
          "POSITIVE",
          "POSITIVE",
          "POSITIVE",
          "POSITIVE",
          "POSITIVE",
          "POSITIVE",
          "POSITIVE",
          "POSITIVE",
          "POSITIVE",
          "POSITIVE",
          "POSITIVE",
          "POSITIVE",
          "POSITIVE",
          "POSITIVE",
          "POSITIVE",
          "NEGATIVE",
          "POSITIVE",
          "POSITIVE",
          "POSITIVE",
          "POSITIVE",
          "POSITIVE",
          "POSITIVE",
          "POSITIVE",
          "POSITIVE",
          "POSITIVE",
          "POSITIVE",
          "POSITIVE",
          "POSITIVE",
          "POSITIVE",
          "NEGATIVE",
          "POSITIVE",
          "POSITIVE",
          "POSITIVE",
          "POSITIVE",
          "POSITIVE",
          "POSITIVE",
          "POSITIVE",
          "POSITIVE",
          "POSITIVE",
          "POSITIVE",
          "POSITIVE",
          "POSITIVE",
          "POSITIVE",
          "POSITIVE",
          "POSITIVE",
          "POSITIVE",
          "POSITIVE",
          "POSITIVE",
          "POSITIVE",
          "POSITIVE",
          "POSITIVE",
          "POSITIVE",
          "POSITIVE",
          "POSITIVE",
          "POSITIVE",
          "POSITIVE",
          "POSITIVE",
          "POSITIVE",
          "POSITIVE",
          "POSITIVE",
          "POSITIVE",
          "NEGATIVE",
          "POSITIVE",
          "POSITIVE",
          "POSITIVE",
          "POSITIVE",
          "POSITIVE",
          "POSITIVE",
          "POSITIVE",
          "POSITIVE",
          "POSITIVE",
          "POSITIVE",
          "POSITIVE",
          "POSITIVE",
          "POSITIVE",
          "POSITIVE",
          "POSITIVE",
          "POSITIVE",
          "POSITIVE",
          "POSITIVE",
          "POSITIVE",
          "POSITIVE",
          "POSITIVE",
          "POSITIVE",
          "POSITIVE",
          "POSITIVE",
          "POSITIVE",
          "POSITIVE",
          "POSITIVE",
          "POSITIVE",
          "POSITIVE",
          "POSITIVE",
          "POSITIVE",
          "POSITIVE",
          "POSITIVE",
          "POSITIVE",
          "POSITIVE",
          "POSITIVE",
          "POSITIVE",
          "POSITIVE",
          "POSITIVE",
          "POSITIVE",
          "POSITIVE",
          "NEGATIVE",
          "POSITIVE",
          "POSITIVE",
          "POSITIVE",
          "POSITIVE",
          "POSITIVE",
          "NEGATIVE",
          "NEGATIVE",
          "POSITIVE",
          "NEGATIVE",
          "POSITIVE",
          "NEGATIVE",
          "NEGATIVE",
          "POSITIVE",
          "NEGATIVE",
          "POSITIVE",
          "POSITIVE",
          "POSITIVE",
          "NEGATIVE",
          "POSITIVE",
          "POSITIVE",
          "POSITIVE",
          "POSITIVE",
          "POSITIVE",
          "NEGATIVE",
          "POSITIVE",
          "NEGATIVE",
          "NEGATIVE",
          "POSITIVE",
          "POSITIVE",
          "NEGATIVE",
          "POSITIVE",
          "NEGATIVE",
          "NEGATIVE",
          "POSITIVE",
          "NEGATIVE",
          "POSITIVE",
          "POSITIVE",
          "POSITIVE",
          "POSITIVE",
          "POSITIVE",
          "POSITIVE",
          "NEGATIVE",
          "NEGATIVE",
          "POSITIVE",
          "NEGATIVE",
          "POSITIVE",
          "POSITIVE",
          "POSITIVE",
          "POSITIVE",
          "POSITIVE",
          "POSITIVE",
          "NEGATIVE",
          "POSITIVE",
          "NEGATIVE",
          "POSITIVE",
          "POSITIVE",
          "NEGATIVE",
          "POSITIVE",
          "POSITIVE",
          "POSITIVE",
          "POSITIVE",
          "NEGATIVE",
          "POSITIVE",
          "POSITIVE",
          "POSITIVE",
          "POSITIVE",
          "NEGATIVE",
          "POSITIVE",
          "POSITIVE",
          "POSITIVE",
          "POSITIVE",
          "NEGATIVE",
          "POSITIVE",
          "POSITIVE",
          "POSITIVE",
          "POSITIVE",
          "POSITIVE",
          "POSITIVE",
          "POSITIVE",
          "POSITIVE",
          "POSITIVE",
          "POSITIVE",
          "NEGATIVE",
          "POSITIVE",
          "POSITIVE",
          "POSITIVE",
          "NEGATIVE",
          "NEGATIVE",
          "POSITIVE",
          "POSITIVE",
          "POSITIVE",
          "POSITIVE",
          "POSITIVE",
          "POSITIVE",
          "POSITIVE",
          "NEGATIVE",
          "POSITIVE",
          "POSITIVE",
          "POSITIVE",
          "POSITIVE",
          "POSITIVE",
          "POSITIVE",
          "POSITIVE",
          "POSITIVE",
          "POSITIVE",
          "POSITIVE",
          "NEGATIVE",
          "POSITIVE",
          "NEGATIVE",
          "POSITIVE",
          "NEGATIVE",
          "POSITIVE",
          "NEGATIVE",
          "POSITIVE",
          "NEGATIVE",
          "POSITIVE",
          "NEGATIVE",
          "POSITIVE",
          "POSITIVE",
          "NEGATIVE",
          "POSITIVE",
          "POSITIVE",
          "POSITIVE",
          "POSITIVE",
          "POSITIVE",
          "POSITIVE",
          "NEGATIVE",
          "POSITIVE",
          "POSITIVE",
          "POSITIVE",
          "NEGATIVE",
          "POSITIVE",
          "POSITIVE",
          "POSITIVE",
          "POSITIVE",
          "POSITIVE",
          "NEGATIVE",
          "POSITIVE",
          "NEGATIVE",
          "POSITIVE",
          "POSITIVE",
          "POSITIVE",
          "NEGATIVE",
          "POSITIVE",
          "POSITIVE",
          "POSITIVE",
          "POSITIVE",
          "POSITIVE",
          "POSITIVE",
          "NEGATIVE",
          "POSITIVE",
          "POSITIVE",
          "POSITIVE",
          "NEGATIVE",
          "POSITIVE",
          "POSITIVE",
          "POSITIVE",
          "POSITIVE",
          "POSITIVE",
          "POSITIVE",
          "POSITIVE",
          "POSITIVE",
          "POSITIVE",
          "POSITIVE",
          "NEGATIVE",
          "POSITIVE",
          "POSITIVE",
          "POSITIVE",
          "POSITIVE",
          "POSITIVE",
          "POSITIVE",
          "POSITIVE",
          "POSITIVE",
          "POSITIVE",
          "POSITIVE",
          "POSITIVE",
          "NEGATIVE",
          "POSITIVE",
          "POSITIVE",
          "POSITIVE",
          "NEGATIVE",
          "POSITIVE",
          "POSITIVE",
          "POSITIVE",
          "NEGATIVE",
          "POSITIVE",
          "NEGATIVE",
          "NEGATIVE",
          "POSITIVE",
          "POSITIVE",
          "POSITIVE",
          "POSITIVE",
          "POSITIVE",
          "POSITIVE",
          "POSITIVE",
          "POSITIVE",
          "POSITIVE",
          "POSITIVE",
          "POSITIVE",
          "POSITIVE",
          "POSITIVE",
          "NEGATIVE",
          "POSITIVE",
          "POSITIVE",
          "POSITIVE",
          "NEGATIVE",
          "NEGATIVE",
          "POSITIVE",
          "POSITIVE",
          "POSITIVE",
          "NEGATIVE",
          "POSITIVE",
          "POSITIVE",
          "POSITIVE",
          "POSITIVE",
          "POSITIVE",
          "POSITIVE",
          "POSITIVE",
          "POSITIVE",
          "NEGATIVE",
          "NEGATIVE",
          "POSITIVE",
          "POSITIVE",
          "NEGATIVE",
          "POSITIVE",
          "POSITIVE",
          "POSITIVE",
          "POSITIVE",
          "POSITIVE",
          "NEGATIVE",
          "POSITIVE",
          "POSITIVE",
          "POSITIVE",
          "POSITIVE",
          "POSITIVE",
          "POSITIVE",
          "NEGATIVE",
          "POSITIVE",
          "POSITIVE",
          "NEGATIVE",
          "NEGATIVE",
          "POSITIVE",
          "POSITIVE",
          "POSITIVE",
          "POSITIVE",
          "POSITIVE",
          "POSITIVE",
          "POSITIVE",
          "POSITIVE",
          "POSITIVE",
          "NEGATIVE",
          "POSITIVE",
          "POSITIVE",
          "POSITIVE",
          "POSITIVE",
          "NEGATIVE",
          "POSITIVE",
          "POSITIVE",
          "POSITIVE",
          "POSITIVE",
          "POSITIVE",
          "NEGATIVE",
          "POSITIVE",
          "POSITIVE",
          "POSITIVE",
          "POSITIVE",
          "POSITIVE",
          "POSITIVE",
          "POSITIVE",
          "POSITIVE",
          "POSITIVE",
          "POSITIVE",
          "POSITIVE",
          "NEGATIVE",
          "NEGATIVE",
          "NEGATIVE",
          "POSITIVE",
          "POSITIVE",
          "POSITIVE",
          "POSITIVE",
          "POSITIVE",
          "POSITIVE",
          "POSITIVE",
          "POSITIVE",
          "NEGATIVE",
          "POSITIVE",
          "POSITIVE",
          "POSITIVE",
          "NEGATIVE",
          "POSITIVE",
          "POSITIVE",
          "POSITIVE",
          "NEGATIVE",
          "POSITIVE",
          "POSITIVE",
          "POSITIVE",
          "POSITIVE",
          "NEGATIVE",
          "POSITIVE",
          "POSITIVE",
          "POSITIVE",
          "POSITIVE",
          "POSITIVE",
          "POSITIVE",
          "NEGATIVE",
          "NEGATIVE",
          "POSITIVE",
          "POSITIVE",
          "POSITIVE",
          "POSITIVE",
          "POSITIVE",
          "POSITIVE",
          "POSITIVE",
          "POSITIVE",
          "POSITIVE",
          "POSITIVE",
          "POSITIVE",
          "NEGATIVE",
          "POSITIVE",
          "POSITIVE",
          "POSITIVE",
          "POSITIVE",
          "POSITIVE",
          "POSITIVE",
          "POSITIVE",
          "POSITIVE",
          "POSITIVE",
          "POSITIVE",
          "POSITIVE",
          "NEGATIVE",
          "POSITIVE",
          "POSITIVE",
          "POSITIVE",
          "POSITIVE",
          "POSITIVE",
          "POSITIVE",
          "POSITIVE",
          "NEGATIVE",
          "POSITIVE",
          "POSITIVE",
          "POSITIVE",
          "NEGATIVE",
          "POSITIVE",
          "POSITIVE",
          "POSITIVE",
          "POSITIVE",
          "POSITIVE",
          "POSITIVE",
          "POSITIVE",
          "POSITIVE",
          "POSITIVE",
          "POSITIVE",
          "POSITIVE",
          "POSITIVE",
          "POSITIVE",
          "POSITIVE",
          "POSITIVE",
          "POSITIVE",
          "NEGATIVE",
          "POSITIVE",
          "POSITIVE",
          "POSITIVE",
          "NEGATIVE",
          "POSITIVE",
          "NEGATIVE",
          "POSITIVE",
          "NEGATIVE",
          "POSITIVE",
          "POSITIVE",
          "POSITIVE",
          "POSITIVE",
          "POSITIVE",
          "NEGATIVE",
          "POSITIVE",
          "NEGATIVE",
          "POSITIVE",
          "NEGATIVE",
          "POSITIVE",
          "POSITIVE",
          "POSITIVE",
          "NEGATIVE",
          "POSITIVE",
          "POSITIVE",
          "POSITIVE",
          "POSITIVE",
          "NEGATIVE",
          "POSITIVE",
          "POSITIVE",
          "POSITIVE",
          "POSITIVE",
          "POSITIVE",
          "POSITIVE",
          "NEGATIVE",
          "POSITIVE",
          "NEGATIVE",
          "POSITIVE",
          "POSITIVE",
          "POSITIVE",
          "NEGATIVE",
          "POSITIVE",
          "POSITIVE",
          "POSITIVE",
          "POSITIVE",
          "POSITIVE",
          "NEGATIVE",
          "POSITIVE",
          "POSITIVE",
          "POSITIVE",
          "NEGATIVE",
          "POSITIVE",
          "POSITIVE",
          "POSITIVE",
          "POSITIVE",
          "POSITIVE",
          "POSITIVE",
          "POSITIVE",
          "POSITIVE",
          "POSITIVE",
          "NEGATIVE",
          "POSITIVE",
          "POSITIVE",
          "POSITIVE",
          "POSITIVE",
          "POSITIVE",
          "NEGATIVE",
          "POSITIVE",
          "POSITIVE",
          "POSITIVE",
          "POSITIVE",
          "POSITIVE",
          "POSITIVE",
          "NEGATIVE",
          "POSITIVE",
          "POSITIVE",
          "POSITIVE",
          "NEGATIVE",
          "POSITIVE",
          "POSITIVE",
          "NEGATIVE",
          "POSITIVE",
          "POSITIVE",
          "POSITIVE",
          "NEGATIVE",
          "POSITIVE",
          "POSITIVE",
          "POSITIVE",
          "POSITIVE",
          "POSITIVE",
          "NEGATIVE",
          "POSITIVE",
          "POSITIVE",
          "POSITIVE",
          "POSITIVE",
          "POSITIVE",
          "NEGATIVE",
          "POSITIVE",
          "POSITIVE",
          "POSITIVE",
          "POSITIVE",
          "NEGATIVE",
          "NEGATIVE",
          "NEGATIVE",
          "POSITIVE",
          "POSITIVE",
          "POSITIVE",
          "POSITIVE",
          "POSITIVE",
          "POSITIVE",
          "POSITIVE",
          "POSITIVE",
          "POSITIVE",
          "POSITIVE",
          "NEGATIVE",
          "POSITIVE",
          "POSITIVE",
          "POSITIVE",
          "POSITIVE",
          "POSITIVE",
          "POSITIVE",
          "POSITIVE",
          "POSITIVE",
          "POSITIVE",
          "POSITIVE",
          "POSITIVE",
          "POSITIVE",
          "POSITIVE",
          "POSITIVE",
          "POSITIVE",
          "POSITIVE",
          "POSITIVE",
          "POSITIVE",
          "POSITIVE",
          "POSITIVE",
          "POSITIVE",
          "POSITIVE",
          "NEGATIVE",
          "POSITIVE",
          "POSITIVE",
          "POSITIVE",
          "POSITIVE",
          "POSITIVE",
          "POSITIVE",
          "POSITIVE",
          "POSITIVE",
          "NEGATIVE",
          "POSITIVE",
          "POSITIVE",
          "POSITIVE",
          "POSITIVE",
          "NEGATIVE",
          "POSITIVE",
          "POSITIVE",
          "POSITIVE",
          "POSITIVE",
          "POSITIVE",
          "POSITIVE",
          "POSITIVE",
          "POSITIVE",
          "POSITIVE",
          "POSITIVE",
          "NEGATIVE",
          "POSITIVE",
          "POSITIVE",
          "POSITIVE",
          "POSITIVE",
          "POSITIVE",
          "POSITIVE",
          "POSITIVE",
          "POSITIVE",
          "POSITIVE",
          "NEGATIVE",
          "NEGATIVE",
          "POSITIVE",
          "POSITIVE",
          "POSITIVE",
          "POSITIVE",
          "POSITIVE",
          "POSITIVE",
          "POSITIVE",
          "POSITIVE",
          "POSITIVE",
          "POSITIVE",
          "POSITIVE",
          "POSITIVE",
          "POSITIVE",
          "POSITIVE",
          "POSITIVE",
          "POSITIVE",
          "POSITIVE",
          "POSITIVE",
          "NEGATIVE",
          "POSITIVE",
          "POSITIVE",
          "POSITIVE",
          "POSITIVE",
          "POSITIVE",
          "POSITIVE",
          "POSITIVE",
          "POSITIVE",
          "POSITIVE",
          "POSITIVE",
          "POSITIVE",
          "NEGATIVE",
          "POSITIVE",
          "POSITIVE",
          "POSITIVE",
          "POSITIVE",
          "POSITIVE",
          "POSITIVE",
          "POSITIVE",
          "POSITIVE",
          "POSITIVE",
          "POSITIVE",
          "POSITIVE",
          "POSITIVE",
          "POSITIVE",
          "POSITIVE",
          "POSITIVE",
          "NEGATIVE",
          "NEGATIVE",
          "POSITIVE",
          "POSITIVE",
          "POSITIVE",
          "POSITIVE",
          "POSITIVE",
          "POSITIVE",
          "POSITIVE",
          "POSITIVE",
          "NEGATIVE",
          "POSITIVE",
          "POSITIVE",
          "POSITIVE",
          "POSITIVE",
          "POSITIVE",
          "POSITIVE",
          "POSITIVE",
          "POSITIVE",
          "POSITIVE",
          "POSITIVE",
          "POSITIVE",
          "POSITIVE",
          "POSITIVE",
          "POSITIVE",
          "POSITIVE",
          "POSITIVE",
          "POSITIVE",
          "POSITIVE",
          "POSITIVE",
          "POSITIVE",
          "POSITIVE",
          "POSITIVE",
          "POSITIVE",
          "POSITIVE",
          "POSITIVE",
          "POSITIVE",
          "POSITIVE",
          "POSITIVE",
          "POSITIVE",
          "POSITIVE",
          "POSITIVE",
          "POSITIVE",
          "POSITIVE",
          "POSITIVE",
          "POSITIVE",
          "POSITIVE",
          "POSITIVE",
          "POSITIVE",
          "NEGATIVE",
          "POSITIVE",
          "POSITIVE",
          "POSITIVE",
          "POSITIVE",
          "POSITIVE",
          "POSITIVE",
          "NEGATIVE",
          "POSITIVE",
          "POSITIVE",
          "POSITIVE",
          "POSITIVE",
          "POSITIVE",
          "POSITIVE",
          "POSITIVE",
          "POSITIVE",
          "POSITIVE",
          "POSITIVE",
          "NEGATIVE",
          "POSITIVE",
          "POSITIVE",
          "POSITIVE",
          "POSITIVE",
          "POSITIVE",
          "POSITIVE",
          "POSITIVE",
          "POSITIVE",
          "POSITIVE",
          "POSITIVE",
          "POSITIVE",
          "POSITIVE",
          "NEGATIVE",
          "POSITIVE",
          "POSITIVE",
          "POSITIVE",
          "NEGATIVE",
          "NEGATIVE",
          "POSITIVE",
          "POSITIVE",
          "NEGATIVE",
          "POSITIVE",
          "POSITIVE",
          "POSITIVE",
          "NEGATIVE",
          "POSITIVE",
          "NEGATIVE",
          "POSITIVE",
          "POSITIVE",
          "POSITIVE",
          "POSITIVE",
          "NEGATIVE",
          "NEGATIVE",
          "POSITIVE",
          "NEGATIVE",
          "NEGATIVE",
          "NEGATIVE",
          "NEGATIVE",
          "POSITIVE",
          "POSITIVE",
          "POSITIVE",
          "POSITIVE",
          "POSITIVE",
          "POSITIVE",
          "POSITIVE",
          "POSITIVE",
          "POSITIVE",
          "POSITIVE",
          "POSITIVE",
          "POSITIVE",
          "NEGATIVE",
          "POSITIVE",
          "POSITIVE",
          "POSITIVE",
          "NEGATIVE",
          "NEGATIVE",
          "POSITIVE",
          "POSITIVE",
          "POSITIVE",
          "POSITIVE",
          "NEGATIVE",
          "POSITIVE",
          "POSITIVE",
          "POSITIVE",
          "POSITIVE",
          "POSITIVE",
          "POSITIVE",
          "POSITIVE",
          "POSITIVE",
          "NEGATIVE",
          "POSITIVE",
          "POSITIVE",
          "POSITIVE",
          "POSITIVE",
          "POSITIVE",
          "NEGATIVE",
          "POSITIVE",
          "POSITIVE",
          "POSITIVE",
          "POSITIVE",
          "POSITIVE",
          "POSITIVE",
          "NEGATIVE",
          "POSITIVE",
          "POSITIVE",
          "NEGATIVE",
          "POSITIVE",
          "POSITIVE",
          "POSITIVE",
          "POSITIVE",
          "NEGATIVE",
          "NEGATIVE",
          "NEGATIVE",
          "POSITIVE",
          "POSITIVE",
          "NEGATIVE",
          "NEGATIVE",
          "POSITIVE",
          "POSITIVE",
          "NEGATIVE",
          "POSITIVE",
          "POSITIVE",
          "POSITIVE",
          "POSITIVE",
          "POSITIVE",
          "POSITIVE",
          "POSITIVE",
          "POSITIVE",
          "POSITIVE",
          "POSITIVE",
          "POSITIVE",
          "POSITIVE",
          "POSITIVE",
          "POSITIVE",
          "POSITIVE",
          "POSITIVE",
          "POSITIVE",
          "POSITIVE",
          "POSITIVE",
          "POSITIVE",
          "POSITIVE",
          "POSITIVE",
          "NEGATIVE",
          "POSITIVE",
          "POSITIVE",
          "POSITIVE",
          "POSITIVE",
          "POSITIVE",
          "NEGATIVE",
          "NEGATIVE",
          "POSITIVE",
          "POSITIVE",
          "POSITIVE",
          "NEGATIVE",
          "POSITIVE",
          "NEGATIVE",
          "POSITIVE",
          "POSITIVE",
          "POSITIVE",
          "POSITIVE",
          "POSITIVE",
          "NEGATIVE",
          "POSITIVE",
          "POSITIVE",
          "NEGATIVE",
          "POSITIVE",
          "POSITIVE",
          "POSITIVE",
          "POSITIVE",
          "POSITIVE",
          "POSITIVE",
          "POSITIVE",
          "POSITIVE",
          "POSITIVE",
          "POSITIVE",
          "POSITIVE",
          "NEGATIVE",
          "NEGATIVE",
          "NEGATIVE",
          "POSITIVE",
          "POSITIVE",
          "POSITIVE",
          "POSITIVE",
          "POSITIVE",
          "POSITIVE",
          "POSITIVE",
          "POSITIVE",
          "POSITIVE",
          "POSITIVE",
          "POSITIVE",
          "POSITIVE",
          "POSITIVE",
          "POSITIVE",
          "POSITIVE",
          "POSITIVE",
          "POSITIVE",
          "POSITIVE",
          "POSITIVE",
          "POSITIVE",
          "POSITIVE",
          "POSITIVE",
          "POSITIVE",
          "POSITIVE",
          "POSITIVE",
          "POSITIVE",
          "POSITIVE",
          "POSITIVE",
          "POSITIVE",
          "POSITIVE",
          "NEGATIVE",
          "POSITIVE",
          "POSITIVE",
          "POSITIVE",
          "POSITIVE",
          "POSITIVE",
          "POSITIVE",
          "POSITIVE",
          "POSITIVE",
          "POSITIVE",
          "POSITIVE",
          "POSITIVE",
          "NEGATIVE",
          "POSITIVE",
          "POSITIVE",
          "POSITIVE",
          "POSITIVE",
          "POSITIVE",
          "POSITIVE",
          "POSITIVE",
          "POSITIVE",
          "POSITIVE",
          "POSITIVE",
          "POSITIVE",
          "POSITIVE",
          "POSITIVE",
          "POSITIVE",
          "POSITIVE",
          "POSITIVE",
          "POSITIVE",
          "POSITIVE",
          "NEGATIVE",
          "POSITIVE",
          "POSITIVE",
          "NEGATIVE",
          "POSITIVE",
          "POSITIVE",
          "POSITIVE",
          "POSITIVE",
          "POSITIVE",
          "NEGATIVE",
          "POSITIVE",
          "POSITIVE",
          "POSITIVE",
          "POSITIVE",
          "POSITIVE",
          "POSITIVE",
          "POSITIVE",
          "POSITIVE",
          "POSITIVE",
          "NEGATIVE",
          "NEGATIVE",
          "POSITIVE",
          "POSITIVE",
          "NEGATIVE",
          "NEGATIVE",
          "POSITIVE",
          "POSITIVE",
          "NEGATIVE",
          "POSITIVE",
          "POSITIVE",
          "POSITIVE",
          "POSITIVE",
          "POSITIVE",
          "NEGATIVE",
          "POSITIVE",
          "POSITIVE",
          "POSITIVE",
          "POSITIVE",
          "POSITIVE",
          "POSITIVE",
          "POSITIVE",
          "POSITIVE",
          "POSITIVE",
          "POSITIVE",
          "POSITIVE",
          "POSITIVE",
          "POSITIVE",
          "POSITIVE",
          "POSITIVE",
          "POSITIVE",
          "POSITIVE",
          "POSITIVE",
          "NEGATIVE",
          "POSITIVE",
          "POSITIVE",
          "POSITIVE",
          "POSITIVE",
          "POSITIVE",
          "POSITIVE",
          "NEGATIVE",
          "POSITIVE",
          "POSITIVE",
          "POSITIVE",
          "POSITIVE",
          "POSITIVE",
          "POSITIVE",
          "POSITIVE",
          "POSITIVE",
          "POSITIVE",
          "POSITIVE",
          "POSITIVE",
          "POSITIVE",
          "POSITIVE",
          "NEGATIVE",
          "POSITIVE",
          "POSITIVE",
          "POSITIVE",
          "POSITIVE",
          "POSITIVE",
          "POSITIVE",
          "POSITIVE",
          "POSITIVE",
          "POSITIVE",
          "POSITIVE",
          "POSITIVE",
          "POSITIVE",
          "POSITIVE",
          "POSITIVE",
          "POSITIVE",
          "POSITIVE",
          "POSITIVE",
          "POSITIVE",
          "POSITIVE",
          "NEGATIVE",
          "POSITIVE",
          "POSITIVE",
          "POSITIVE",
          "POSITIVE",
          "POSITIVE",
          "POSITIVE",
          "POSITIVE",
          "POSITIVE",
          "POSITIVE",
          "POSITIVE",
          "POSITIVE",
          "POSITIVE",
          "POSITIVE",
          "POSITIVE"
         ],
         "xaxis": "x",
         "yaxis": "y"
        }
       ],
       "layout": {
        "barmode": "relative",
        "legend": {
         "tracegroupgap": 0
        },
        "margin": {
         "t": 60
        },
        "template": {
         "data": {
          "bar": [
           {
            "error_x": {
             "color": "#2a3f5f"
            },
            "error_y": {
             "color": "#2a3f5f"
            },
            "marker": {
             "line": {
              "color": "#E5ECF6",
              "width": 0.5
             },
             "pattern": {
              "fillmode": "overlay",
              "size": 10,
              "solidity": 0.2
             }
            },
            "type": "bar"
           }
          ],
          "barpolar": [
           {
            "marker": {
             "line": {
              "color": "#E5ECF6",
              "width": 0.5
             },
             "pattern": {
              "fillmode": "overlay",
              "size": 10,
              "solidity": 0.2
             }
            },
            "type": "barpolar"
           }
          ],
          "carpet": [
           {
            "aaxis": {
             "endlinecolor": "#2a3f5f",
             "gridcolor": "white",
             "linecolor": "white",
             "minorgridcolor": "white",
             "startlinecolor": "#2a3f5f"
            },
            "baxis": {
             "endlinecolor": "#2a3f5f",
             "gridcolor": "white",
             "linecolor": "white",
             "minorgridcolor": "white",
             "startlinecolor": "#2a3f5f"
            },
            "type": "carpet"
           }
          ],
          "choropleth": [
           {
            "colorbar": {
             "outlinewidth": 0,
             "ticks": ""
            },
            "type": "choropleth"
           }
          ],
          "contour": [
           {
            "colorbar": {
             "outlinewidth": 0,
             "ticks": ""
            },
            "colorscale": [
             [
              0,
              "#0d0887"
             ],
             [
              0.1111111111111111,
              "#46039f"
             ],
             [
              0.2222222222222222,
              "#7201a8"
             ],
             [
              0.3333333333333333,
              "#9c179e"
             ],
             [
              0.4444444444444444,
              "#bd3786"
             ],
             [
              0.5555555555555556,
              "#d8576b"
             ],
             [
              0.6666666666666666,
              "#ed7953"
             ],
             [
              0.7777777777777778,
              "#fb9f3a"
             ],
             [
              0.8888888888888888,
              "#fdca26"
             ],
             [
              1,
              "#f0f921"
             ]
            ],
            "type": "contour"
           }
          ],
          "contourcarpet": [
           {
            "colorbar": {
             "outlinewidth": 0,
             "ticks": ""
            },
            "type": "contourcarpet"
           }
          ],
          "heatmap": [
           {
            "colorbar": {
             "outlinewidth": 0,
             "ticks": ""
            },
            "colorscale": [
             [
              0,
              "#0d0887"
             ],
             [
              0.1111111111111111,
              "#46039f"
             ],
             [
              0.2222222222222222,
              "#7201a8"
             ],
             [
              0.3333333333333333,
              "#9c179e"
             ],
             [
              0.4444444444444444,
              "#bd3786"
             ],
             [
              0.5555555555555556,
              "#d8576b"
             ],
             [
              0.6666666666666666,
              "#ed7953"
             ],
             [
              0.7777777777777778,
              "#fb9f3a"
             ],
             [
              0.8888888888888888,
              "#fdca26"
             ],
             [
              1,
              "#f0f921"
             ]
            ],
            "type": "heatmap"
           }
          ],
          "heatmapgl": [
           {
            "colorbar": {
             "outlinewidth": 0,
             "ticks": ""
            },
            "colorscale": [
             [
              0,
              "#0d0887"
             ],
             [
              0.1111111111111111,
              "#46039f"
             ],
             [
              0.2222222222222222,
              "#7201a8"
             ],
             [
              0.3333333333333333,
              "#9c179e"
             ],
             [
              0.4444444444444444,
              "#bd3786"
             ],
             [
              0.5555555555555556,
              "#d8576b"
             ],
             [
              0.6666666666666666,
              "#ed7953"
             ],
             [
              0.7777777777777778,
              "#fb9f3a"
             ],
             [
              0.8888888888888888,
              "#fdca26"
             ],
             [
              1,
              "#f0f921"
             ]
            ],
            "type": "heatmapgl"
           }
          ],
          "histogram": [
           {
            "marker": {
             "pattern": {
              "fillmode": "overlay",
              "size": 10,
              "solidity": 0.2
             }
            },
            "type": "histogram"
           }
          ],
          "histogram2d": [
           {
            "colorbar": {
             "outlinewidth": 0,
             "ticks": ""
            },
            "colorscale": [
             [
              0,
              "#0d0887"
             ],
             [
              0.1111111111111111,
              "#46039f"
             ],
             [
              0.2222222222222222,
              "#7201a8"
             ],
             [
              0.3333333333333333,
              "#9c179e"
             ],
             [
              0.4444444444444444,
              "#bd3786"
             ],
             [
              0.5555555555555556,
              "#d8576b"
             ],
             [
              0.6666666666666666,
              "#ed7953"
             ],
             [
              0.7777777777777778,
              "#fb9f3a"
             ],
             [
              0.8888888888888888,
              "#fdca26"
             ],
             [
              1,
              "#f0f921"
             ]
            ],
            "type": "histogram2d"
           }
          ],
          "histogram2dcontour": [
           {
            "colorbar": {
             "outlinewidth": 0,
             "ticks": ""
            },
            "colorscale": [
             [
              0,
              "#0d0887"
             ],
             [
              0.1111111111111111,
              "#46039f"
             ],
             [
              0.2222222222222222,
              "#7201a8"
             ],
             [
              0.3333333333333333,
              "#9c179e"
             ],
             [
              0.4444444444444444,
              "#bd3786"
             ],
             [
              0.5555555555555556,
              "#d8576b"
             ],
             [
              0.6666666666666666,
              "#ed7953"
             ],
             [
              0.7777777777777778,
              "#fb9f3a"
             ],
             [
              0.8888888888888888,
              "#fdca26"
             ],
             [
              1,
              "#f0f921"
             ]
            ],
            "type": "histogram2dcontour"
           }
          ],
          "mesh3d": [
           {
            "colorbar": {
             "outlinewidth": 0,
             "ticks": ""
            },
            "type": "mesh3d"
           }
          ],
          "parcoords": [
           {
            "line": {
             "colorbar": {
              "outlinewidth": 0,
              "ticks": ""
             }
            },
            "type": "parcoords"
           }
          ],
          "pie": [
           {
            "automargin": true,
            "type": "pie"
           }
          ],
          "scatter": [
           {
            "fillpattern": {
             "fillmode": "overlay",
             "size": 10,
             "solidity": 0.2
            },
            "type": "scatter"
           }
          ],
          "scatter3d": [
           {
            "line": {
             "colorbar": {
              "outlinewidth": 0,
              "ticks": ""
             }
            },
            "marker": {
             "colorbar": {
              "outlinewidth": 0,
              "ticks": ""
             }
            },
            "type": "scatter3d"
           }
          ],
          "scattercarpet": [
           {
            "marker": {
             "colorbar": {
              "outlinewidth": 0,
              "ticks": ""
             }
            },
            "type": "scattercarpet"
           }
          ],
          "scattergeo": [
           {
            "marker": {
             "colorbar": {
              "outlinewidth": 0,
              "ticks": ""
             }
            },
            "type": "scattergeo"
           }
          ],
          "scattergl": [
           {
            "marker": {
             "colorbar": {
              "outlinewidth": 0,
              "ticks": ""
             }
            },
            "type": "scattergl"
           }
          ],
          "scattermapbox": [
           {
            "marker": {
             "colorbar": {
              "outlinewidth": 0,
              "ticks": ""
             }
            },
            "type": "scattermapbox"
           }
          ],
          "scatterpolar": [
           {
            "marker": {
             "colorbar": {
              "outlinewidth": 0,
              "ticks": ""
             }
            },
            "type": "scatterpolar"
           }
          ],
          "scatterpolargl": [
           {
            "marker": {
             "colorbar": {
              "outlinewidth": 0,
              "ticks": ""
             }
            },
            "type": "scatterpolargl"
           }
          ],
          "scatterternary": [
           {
            "marker": {
             "colorbar": {
              "outlinewidth": 0,
              "ticks": ""
             }
            },
            "type": "scatterternary"
           }
          ],
          "surface": [
           {
            "colorbar": {
             "outlinewidth": 0,
             "ticks": ""
            },
            "colorscale": [
             [
              0,
              "#0d0887"
             ],
             [
              0.1111111111111111,
              "#46039f"
             ],
             [
              0.2222222222222222,
              "#7201a8"
             ],
             [
              0.3333333333333333,
              "#9c179e"
             ],
             [
              0.4444444444444444,
              "#bd3786"
             ],
             [
              0.5555555555555556,
              "#d8576b"
             ],
             [
              0.6666666666666666,
              "#ed7953"
             ],
             [
              0.7777777777777778,
              "#fb9f3a"
             ],
             [
              0.8888888888888888,
              "#fdca26"
             ],
             [
              1,
              "#f0f921"
             ]
            ],
            "type": "surface"
           }
          ],
          "table": [
           {
            "cells": {
             "fill": {
              "color": "#EBF0F8"
             },
             "line": {
              "color": "white"
             }
            },
            "header": {
             "fill": {
              "color": "#C8D4E3"
             },
             "line": {
              "color": "white"
             }
            },
            "type": "table"
           }
          ]
         },
         "layout": {
          "annotationdefaults": {
           "arrowcolor": "#2a3f5f",
           "arrowhead": 0,
           "arrowwidth": 1
          },
          "autotypenumbers": "strict",
          "coloraxis": {
           "colorbar": {
            "outlinewidth": 0,
            "ticks": ""
           }
          },
          "colorscale": {
           "diverging": [
            [
             0,
             "#8e0152"
            ],
            [
             0.1,
             "#c51b7d"
            ],
            [
             0.2,
             "#de77ae"
            ],
            [
             0.3,
             "#f1b6da"
            ],
            [
             0.4,
             "#fde0ef"
            ],
            [
             0.5,
             "#f7f7f7"
            ],
            [
             0.6,
             "#e6f5d0"
            ],
            [
             0.7,
             "#b8e186"
            ],
            [
             0.8,
             "#7fbc41"
            ],
            [
             0.9,
             "#4d9221"
            ],
            [
             1,
             "#276419"
            ]
           ],
           "sequential": [
            [
             0,
             "#0d0887"
            ],
            [
             0.1111111111111111,
             "#46039f"
            ],
            [
             0.2222222222222222,
             "#7201a8"
            ],
            [
             0.3333333333333333,
             "#9c179e"
            ],
            [
             0.4444444444444444,
             "#bd3786"
            ],
            [
             0.5555555555555556,
             "#d8576b"
            ],
            [
             0.6666666666666666,
             "#ed7953"
            ],
            [
             0.7777777777777778,
             "#fb9f3a"
            ],
            [
             0.8888888888888888,
             "#fdca26"
            ],
            [
             1,
             "#f0f921"
            ]
           ],
           "sequentialminus": [
            [
             0,
             "#0d0887"
            ],
            [
             0.1111111111111111,
             "#46039f"
            ],
            [
             0.2222222222222222,
             "#7201a8"
            ],
            [
             0.3333333333333333,
             "#9c179e"
            ],
            [
             0.4444444444444444,
             "#bd3786"
            ],
            [
             0.5555555555555556,
             "#d8576b"
            ],
            [
             0.6666666666666666,
             "#ed7953"
            ],
            [
             0.7777777777777778,
             "#fb9f3a"
            ],
            [
             0.8888888888888888,
             "#fdca26"
            ],
            [
             1,
             "#f0f921"
            ]
           ]
          },
          "colorway": [
           "#636efa",
           "#EF553B",
           "#00cc96",
           "#ab63fa",
           "#FFA15A",
           "#19d3f3",
           "#FF6692",
           "#B6E880",
           "#FF97FF",
           "#FECB52"
          ],
          "font": {
           "color": "#2a3f5f"
          },
          "geo": {
           "bgcolor": "white",
           "lakecolor": "white",
           "landcolor": "#E5ECF6",
           "showlakes": true,
           "showland": true,
           "subunitcolor": "white"
          },
          "hoverlabel": {
           "align": "left"
          },
          "hovermode": "closest",
          "mapbox": {
           "style": "light"
          },
          "paper_bgcolor": "white",
          "plot_bgcolor": "#E5ECF6",
          "polar": {
           "angularaxis": {
            "gridcolor": "white",
            "linecolor": "white",
            "ticks": ""
           },
           "bgcolor": "#E5ECF6",
           "radialaxis": {
            "gridcolor": "white",
            "linecolor": "white",
            "ticks": ""
           }
          },
          "scene": {
           "xaxis": {
            "backgroundcolor": "#E5ECF6",
            "gridcolor": "white",
            "gridwidth": 2,
            "linecolor": "white",
            "showbackground": true,
            "ticks": "",
            "zerolinecolor": "white"
           },
           "yaxis": {
            "backgroundcolor": "#E5ECF6",
            "gridcolor": "white",
            "gridwidth": 2,
            "linecolor": "white",
            "showbackground": true,
            "ticks": "",
            "zerolinecolor": "white"
           },
           "zaxis": {
            "backgroundcolor": "#E5ECF6",
            "gridcolor": "white",
            "gridwidth": 2,
            "linecolor": "white",
            "showbackground": true,
            "ticks": "",
            "zerolinecolor": "white"
           }
          },
          "shapedefaults": {
           "line": {
            "color": "#2a3f5f"
           }
          },
          "ternary": {
           "aaxis": {
            "gridcolor": "white",
            "linecolor": "white",
            "ticks": ""
           },
           "baxis": {
            "gridcolor": "white",
            "linecolor": "white",
            "ticks": ""
           },
           "bgcolor": "#E5ECF6",
           "caxis": {
            "gridcolor": "white",
            "linecolor": "white",
            "ticks": ""
           }
          },
          "title": {
           "x": 0.05
          },
          "xaxis": {
           "automargin": true,
           "gridcolor": "white",
           "linecolor": "white",
           "ticks": "",
           "title": {
            "standoff": 15
           },
           "zerolinecolor": "white",
           "zerolinewidth": 2
          },
          "yaxis": {
           "automargin": true,
           "gridcolor": "white",
           "linecolor": "white",
           "ticks": "",
           "title": {
            "standoff": 15
           },
           "zerolinecolor": "white",
           "zerolinewidth": 2
          }
         }
        },
        "title": {
         "text": "Product Sentiment"
        },
        "xaxis": {
         "anchor": "y",
         "domain": [
          0,
          1
         ],
         "title": {
          "text": "sentimentt"
         }
        },
        "yaxis": {
         "anchor": "x",
         "domain": [
          0,
          1
         ],
         "title": {
          "text": "count"
         }
        }
       }
      },
      "text/html": [
       "<div>                            <div id=\"a1050e82-3382-45b0-9cf3-76cdd422a4c6\" class=\"plotly-graph-div\" style=\"height:525px; width:100%;\"></div>            <script type=\"text/javascript\">                require([\"plotly\"], function(Plotly) {                    window.PLOTLYENV=window.PLOTLYENV || {};                                    if (document.getElementById(\"a1050e82-3382-45b0-9cf3-76cdd422a4c6\")) {                    Plotly.newPlot(                        \"a1050e82-3382-45b0-9cf3-76cdd422a4c6\",                        [{\"alignmentgroup\":\"True\",\"bingroup\":\"x\",\"hovertemplate\":\"sentimentt=%{x}<br>count=%{y}<extra></extra>\",\"legendgroup\":\"\",\"marker\":{\"color\":\"indianred\",\"pattern\":{\"shape\":\"\"},\"line\":{\"color\":\"rgb(8,48,107)\",\"width\":1.5}},\"name\":\"\",\"offsetgroup\":\"\",\"orientation\":\"v\",\"showlegend\":false,\"x\":[\"POSITIVE\",\"POSITIVE\",\"POSITIVE\",\"POSITIVE\",\"POSITIVE\",\"POSITIVE\",\"POSITIVE\",\"POSITIVE\",\"POSITIVE\",\"NEGATIVE\",\"POSITIVE\",\"POSITIVE\",\"POSITIVE\",\"POSITIVE\",\"POSITIVE\",\"POSITIVE\",\"POSITIVE\",\"POSITIVE\",\"POSITIVE\",\"POSITIVE\",\"POSITIVE\",\"POSITIVE\",\"POSITIVE\",\"POSITIVE\",\"POSITIVE\",\"POSITIVE\",\"POSITIVE\",\"NEGATIVE\",\"NEGATIVE\",\"POSITIVE\",\"POSITIVE\",\"POSITIVE\",\"POSITIVE\",\"POSITIVE\",\"POSITIVE\",\"POSITIVE\",\"POSITIVE\",\"NEGATIVE\",\"POSITIVE\",\"POSITIVE\",\"POSITIVE\",\"NEGATIVE\",\"NEGATIVE\",\"NEGATIVE\",\"POSITIVE\",\"POSITIVE\",\"POSITIVE\",\"POSITIVE\",\"POSITIVE\",\"POSITIVE\",\"POSITIVE\",\"POSITIVE\",\"POSITIVE\",\"POSITIVE\",\"POSITIVE\",\"POSITIVE\",\"POSITIVE\",\"POSITIVE\",\"POSITIVE\",\"POSITIVE\",\"POSITIVE\",\"POSITIVE\",\"POSITIVE\",\"POSITIVE\",\"POSITIVE\",\"POSITIVE\",\"POSITIVE\",\"POSITIVE\",\"NEGATIVE\",\"POSITIVE\",\"POSITIVE\",\"POSITIVE\",\"POSITIVE\",\"POSITIVE\",\"POSITIVE\",\"POSITIVE\",\"POSITIVE\",\"POSITIVE\",\"POSITIVE\",\"POSITIVE\",\"POSITIVE\",\"POSITIVE\",\"NEGATIVE\",\"POSITIVE\",\"POSITIVE\",\"POSITIVE\",\"POSITIVE\",\"POSITIVE\",\"POSITIVE\",\"POSITIVE\",\"POSITIVE\",\"POSITIVE\",\"POSITIVE\",\"POSITIVE\",\"POSITIVE\",\"POSITIVE\",\"POSITIVE\",\"POSITIVE\",\"POSITIVE\",\"POSITIVE\",\"POSITIVE\",\"POSITIVE\",\"POSITIVE\",\"POSITIVE\",\"POSITIVE\",\"POSITIVE\",\"POSITIVE\",\"POSITIVE\",\"POSITIVE\",\"POSITIVE\",\"POSITIVE\",\"POSITIVE\",\"POSITIVE\",\"POSITIVE\",\"POSITIVE\",\"POSITIVE\",\"POSITIVE\",\"POSITIVE\",\"NEGATIVE\",\"NEGATIVE\",\"POSITIVE\",\"POSITIVE\",\"POSITIVE\",\"POSITIVE\",\"POSITIVE\",\"NEGATIVE\",\"POSITIVE\",\"POSITIVE\",\"POSITIVE\",\"POSITIVE\",\"POSITIVE\",\"POSITIVE\",\"POSITIVE\",\"POSITIVE\",\"POSITIVE\",\"NEGATIVE\",\"POSITIVE\",\"POSITIVE\",\"POSITIVE\",\"POSITIVE\",\"POSITIVE\",\"POSITIVE\",\"NEGATIVE\",\"POSITIVE\",\"POSITIVE\",\"POSITIVE\",\"POSITIVE\",\"POSITIVE\",\"POSITIVE\",\"POSITIVE\",\"POSITIVE\",\"POSITIVE\",\"POSITIVE\",\"POSITIVE\",\"POSITIVE\",\"POSITIVE\",\"POSITIVE\",\"NEGATIVE\",\"POSITIVE\",\"NEGATIVE\",\"POSITIVE\",\"NEGATIVE\",\"POSITIVE\",\"POSITIVE\",\"POSITIVE\",\"POSITIVE\",\"POSITIVE\",\"POSITIVE\",\"POSITIVE\",\"POSITIVE\",\"POSITIVE\",\"POSITIVE\",\"NEGATIVE\",\"POSITIVE\",\"POSITIVE\",\"POSITIVE\",\"NEGATIVE\",\"POSITIVE\",\"POSITIVE\",\"NEGATIVE\",\"NEGATIVE\",\"NEGATIVE\",\"POSITIVE\",\"POSITIVE\",\"POSITIVE\",\"POSITIVE\",\"POSITIVE\",\"POSITIVE\",\"POSITIVE\",\"NEGATIVE\",\"POSITIVE\",\"POSITIVE\",\"NEGATIVE\",\"POSITIVE\",\"POSITIVE\",\"POSITIVE\",\"POSITIVE\",\"POSITIVE\",\"POSITIVE\",\"POSITIVE\",\"POSITIVE\",\"POSITIVE\",\"POSITIVE\",\"POSITIVE\",\"POSITIVE\",\"POSITIVE\",\"POSITIVE\",\"POSITIVE\",\"NEGATIVE\",\"POSITIVE\",\"POSITIVE\",\"POSITIVE\",\"POSITIVE\",\"POSITIVE\",\"POSITIVE\",\"POSITIVE\",\"POSITIVE\",\"POSITIVE\",\"POSITIVE\",\"POSITIVE\",\"POSITIVE\",\"POSITIVE\",\"POSITIVE\",\"POSITIVE\",\"POSITIVE\",\"POSITIVE\",\"NEGATIVE\",\"POSITIVE\",\"NEGATIVE\",\"NEGATIVE\",\"POSITIVE\",\"POSITIVE\",\"POSITIVE\",\"NEGATIVE\",\"POSITIVE\",\"NEGATIVE\",\"POSITIVE\",\"POSITIVE\",\"POSITIVE\",\"POSITIVE\",\"POSITIVE\",\"POSITIVE\",\"NEGATIVE\",\"POSITIVE\",\"NEGATIVE\",\"POSITIVE\",\"NEGATIVE\",\"POSITIVE\",\"NEGATIVE\",\"POSITIVE\",\"POSITIVE\",\"POSITIVE\",\"NEGATIVE\",\"NEGATIVE\",\"NEGATIVE\",\"POSITIVE\",\"POSITIVE\",\"POSITIVE\",\"POSITIVE\",\"NEGATIVE\",\"NEGATIVE\",\"POSITIVE\",\"POSITIVE\",\"POSITIVE\",\"POSITIVE\",\"POSITIVE\",\"POSITIVE\",\"POSITIVE\",\"NEGATIVE\",\"NEGATIVE\",\"POSITIVE\",\"POSITIVE\",\"POSITIVE\",\"POSITIVE\",\"NEGATIVE\",\"NEGATIVE\",\"POSITIVE\",\"NEGATIVE\",\"POSITIVE\",\"POSITIVE\",\"POSITIVE\",\"POSITIVE\",\"POSITIVE\",\"POSITIVE\",\"POSITIVE\",\"POSITIVE\",\"POSITIVE\",\"POSITIVE\",\"POSITIVE\",\"POSITIVE\",\"POSITIVE\",\"NEGATIVE\",\"POSITIVE\",\"NEGATIVE\",\"POSITIVE\",\"POSITIVE\",\"POSITIVE\",\"POSITIVE\",\"POSITIVE\",\"POSITIVE\",\"POSITIVE\",\"NEGATIVE\",\"NEGATIVE\",\"POSITIVE\",\"POSITIVE\",\"POSITIVE\",\"POSITIVE\",\"POSITIVE\",\"POSITIVE\",\"POSITIVE\",\"POSITIVE\",\"POSITIVE\",\"POSITIVE\",\"POSITIVE\",\"NEGATIVE\",\"NEGATIVE\",\"POSITIVE\",\"POSITIVE\",\"POSITIVE\",\"POSITIVE\",\"NEGATIVE\",\"POSITIVE\",\"POSITIVE\",\"POSITIVE\",\"POSITIVE\",\"POSITIVE\",\"POSITIVE\",\"NEGATIVE\",\"POSITIVE\",\"POSITIVE\",\"POSITIVE\",\"POSITIVE\",\"NEGATIVE\",\"POSITIVE\",\"POSITIVE\",\"POSITIVE\",\"POSITIVE\",\"POSITIVE\",\"POSITIVE\",\"POSITIVE\",\"POSITIVE\",\"POSITIVE\",\"POSITIVE\",\"POSITIVE\",\"POSITIVE\",\"POSITIVE\",\"POSITIVE\",\"POSITIVE\",\"POSITIVE\",\"POSITIVE\",\"NEGATIVE\",\"POSITIVE\",\"POSITIVE\",\"POSITIVE\",\"POSITIVE\",\"POSITIVE\",\"NEGATIVE\",\"NEGATIVE\",\"POSITIVE\",\"POSITIVE\",\"POSITIVE\",\"POSITIVE\",\"NEGATIVE\",\"POSITIVE\",\"POSITIVE\",\"POSITIVE\",\"POSITIVE\",\"POSITIVE\",\"POSITIVE\",\"POSITIVE\",\"POSITIVE\",\"POSITIVE\",\"POSITIVE\",\"POSITIVE\",\"POSITIVE\",\"POSITIVE\",\"POSITIVE\",\"POSITIVE\",\"POSITIVE\",\"POSITIVE\",\"POSITIVE\",\"POSITIVE\",\"NEGATIVE\",\"POSITIVE\",\"POSITIVE\",\"POSITIVE\",\"POSITIVE\",\"POSITIVE\",\"POSITIVE\",\"POSITIVE\",\"NEGATIVE\",\"POSITIVE\",\"POSITIVE\",\"POSITIVE\",\"POSITIVE\",\"NEGATIVE\",\"POSITIVE\",\"POSITIVE\",\"POSITIVE\",\"POSITIVE\",\"POSITIVE\",\"POSITIVE\",\"POSITIVE\",\"POSITIVE\",\"POSITIVE\",\"POSITIVE\",\"POSITIVE\",\"POSITIVE\",\"POSITIVE\",\"POSITIVE\",\"POSITIVE\",\"POSITIVE\",\"POSITIVE\",\"POSITIVE\",\"POSITIVE\",\"POSITIVE\",\"POSITIVE\",\"POSITIVE\",\"POSITIVE\",\"POSITIVE\",\"POSITIVE\",\"POSITIVE\",\"POSITIVE\",\"POSITIVE\",\"POSITIVE\",\"POSITIVE\",\"POSITIVE\",\"NEGATIVE\",\"POSITIVE\",\"POSITIVE\",\"POSITIVE\",\"POSITIVE\",\"POSITIVE\",\"POSITIVE\",\"POSITIVE\",\"POSITIVE\",\"NEGATIVE\",\"POSITIVE\",\"POSITIVE\",\"POSITIVE\",\"POSITIVE\",\"POSITIVE\",\"POSITIVE\",\"NEGATIVE\",\"POSITIVE\",\"POSITIVE\",\"NEGATIVE\",\"POSITIVE\",\"POSITIVE\",\"POSITIVE\",\"POSITIVE\",\"POSITIVE\",\"POSITIVE\",\"POSITIVE\",\"POSITIVE\",\"POSITIVE\",\"POSITIVE\",\"POSITIVE\",\"POSITIVE\",\"POSITIVE\",\"POSITIVE\",\"POSITIVE\",\"POSITIVE\",\"POSITIVE\",\"POSITIVE\",\"POSITIVE\",\"POSITIVE\",\"POSITIVE\",\"POSITIVE\",\"POSITIVE\",\"POSITIVE\",\"POSITIVE\",\"NEGATIVE\",\"POSITIVE\",\"POSITIVE\",\"POSITIVE\",\"POSITIVE\",\"POSITIVE\",\"POSITIVE\",\"POSITIVE\",\"POSITIVE\",\"POSITIVE\",\"POSITIVE\",\"POSITIVE\",\"POSITIVE\",\"POSITIVE\",\"NEGATIVE\",\"POSITIVE\",\"POSITIVE\",\"POSITIVE\",\"POSITIVE\",\"POSITIVE\",\"POSITIVE\",\"POSITIVE\",\"POSITIVE\",\"POSITIVE\",\"POSITIVE\",\"POSITIVE\",\"POSITIVE\",\"POSITIVE\",\"POSITIVE\",\"POSITIVE\",\"POSITIVE\",\"POSITIVE\",\"POSITIVE\",\"POSITIVE\",\"POSITIVE\",\"POSITIVE\",\"POSITIVE\",\"POSITIVE\",\"POSITIVE\",\"POSITIVE\",\"POSITIVE\",\"POSITIVE\",\"POSITIVE\",\"POSITIVE\",\"POSITIVE\",\"POSITIVE\",\"NEGATIVE\",\"POSITIVE\",\"POSITIVE\",\"POSITIVE\",\"POSITIVE\",\"POSITIVE\",\"POSITIVE\",\"POSITIVE\",\"POSITIVE\",\"POSITIVE\",\"POSITIVE\",\"POSITIVE\",\"POSITIVE\",\"POSITIVE\",\"POSITIVE\",\"POSITIVE\",\"POSITIVE\",\"POSITIVE\",\"POSITIVE\",\"POSITIVE\",\"POSITIVE\",\"POSITIVE\",\"POSITIVE\",\"POSITIVE\",\"POSITIVE\",\"POSITIVE\",\"POSITIVE\",\"POSITIVE\",\"POSITIVE\",\"POSITIVE\",\"POSITIVE\",\"POSITIVE\",\"POSITIVE\",\"POSITIVE\",\"POSITIVE\",\"POSITIVE\",\"POSITIVE\",\"POSITIVE\",\"POSITIVE\",\"POSITIVE\",\"POSITIVE\",\"POSITIVE\",\"NEGATIVE\",\"POSITIVE\",\"POSITIVE\",\"POSITIVE\",\"POSITIVE\",\"POSITIVE\",\"NEGATIVE\",\"NEGATIVE\",\"POSITIVE\",\"NEGATIVE\",\"POSITIVE\",\"NEGATIVE\",\"NEGATIVE\",\"POSITIVE\",\"NEGATIVE\",\"POSITIVE\",\"POSITIVE\",\"POSITIVE\",\"NEGATIVE\",\"POSITIVE\",\"POSITIVE\",\"POSITIVE\",\"POSITIVE\",\"POSITIVE\",\"NEGATIVE\",\"POSITIVE\",\"NEGATIVE\",\"NEGATIVE\",\"POSITIVE\",\"POSITIVE\",\"NEGATIVE\",\"POSITIVE\",\"NEGATIVE\",\"NEGATIVE\",\"POSITIVE\",\"NEGATIVE\",\"POSITIVE\",\"POSITIVE\",\"POSITIVE\",\"POSITIVE\",\"POSITIVE\",\"POSITIVE\",\"NEGATIVE\",\"NEGATIVE\",\"POSITIVE\",\"NEGATIVE\",\"POSITIVE\",\"POSITIVE\",\"POSITIVE\",\"POSITIVE\",\"POSITIVE\",\"POSITIVE\",\"NEGATIVE\",\"POSITIVE\",\"NEGATIVE\",\"POSITIVE\",\"POSITIVE\",\"NEGATIVE\",\"POSITIVE\",\"POSITIVE\",\"POSITIVE\",\"POSITIVE\",\"NEGATIVE\",\"POSITIVE\",\"POSITIVE\",\"POSITIVE\",\"POSITIVE\",\"NEGATIVE\",\"POSITIVE\",\"POSITIVE\",\"POSITIVE\",\"POSITIVE\",\"NEGATIVE\",\"POSITIVE\",\"POSITIVE\",\"POSITIVE\",\"POSITIVE\",\"POSITIVE\",\"POSITIVE\",\"POSITIVE\",\"POSITIVE\",\"POSITIVE\",\"POSITIVE\",\"NEGATIVE\",\"POSITIVE\",\"POSITIVE\",\"POSITIVE\",\"NEGATIVE\",\"NEGATIVE\",\"POSITIVE\",\"POSITIVE\",\"POSITIVE\",\"POSITIVE\",\"POSITIVE\",\"POSITIVE\",\"POSITIVE\",\"NEGATIVE\",\"POSITIVE\",\"POSITIVE\",\"POSITIVE\",\"POSITIVE\",\"POSITIVE\",\"POSITIVE\",\"POSITIVE\",\"POSITIVE\",\"POSITIVE\",\"POSITIVE\",\"NEGATIVE\",\"POSITIVE\",\"NEGATIVE\",\"POSITIVE\",\"NEGATIVE\",\"POSITIVE\",\"NEGATIVE\",\"POSITIVE\",\"NEGATIVE\",\"POSITIVE\",\"NEGATIVE\",\"POSITIVE\",\"POSITIVE\",\"NEGATIVE\",\"POSITIVE\",\"POSITIVE\",\"POSITIVE\",\"POSITIVE\",\"POSITIVE\",\"POSITIVE\",\"NEGATIVE\",\"POSITIVE\",\"POSITIVE\",\"POSITIVE\",\"NEGATIVE\",\"POSITIVE\",\"POSITIVE\",\"POSITIVE\",\"POSITIVE\",\"POSITIVE\",\"NEGATIVE\",\"POSITIVE\",\"NEGATIVE\",\"POSITIVE\",\"POSITIVE\",\"POSITIVE\",\"NEGATIVE\",\"POSITIVE\",\"POSITIVE\",\"POSITIVE\",\"POSITIVE\",\"POSITIVE\",\"POSITIVE\",\"NEGATIVE\",\"POSITIVE\",\"POSITIVE\",\"POSITIVE\",\"NEGATIVE\",\"POSITIVE\",\"POSITIVE\",\"POSITIVE\",\"POSITIVE\",\"POSITIVE\",\"POSITIVE\",\"POSITIVE\",\"POSITIVE\",\"POSITIVE\",\"POSITIVE\",\"NEGATIVE\",\"POSITIVE\",\"POSITIVE\",\"POSITIVE\",\"POSITIVE\",\"POSITIVE\",\"POSITIVE\",\"POSITIVE\",\"POSITIVE\",\"POSITIVE\",\"POSITIVE\",\"POSITIVE\",\"NEGATIVE\",\"POSITIVE\",\"POSITIVE\",\"POSITIVE\",\"NEGATIVE\",\"POSITIVE\",\"POSITIVE\",\"POSITIVE\",\"NEGATIVE\",\"POSITIVE\",\"NEGATIVE\",\"NEGATIVE\",\"POSITIVE\",\"POSITIVE\",\"POSITIVE\",\"POSITIVE\",\"POSITIVE\",\"POSITIVE\",\"POSITIVE\",\"POSITIVE\",\"POSITIVE\",\"POSITIVE\",\"POSITIVE\",\"POSITIVE\",\"POSITIVE\",\"NEGATIVE\",\"POSITIVE\",\"POSITIVE\",\"POSITIVE\",\"NEGATIVE\",\"NEGATIVE\",\"POSITIVE\",\"POSITIVE\",\"POSITIVE\",\"NEGATIVE\",\"POSITIVE\",\"POSITIVE\",\"POSITIVE\",\"POSITIVE\",\"POSITIVE\",\"POSITIVE\",\"POSITIVE\",\"POSITIVE\",\"NEGATIVE\",\"NEGATIVE\",\"POSITIVE\",\"POSITIVE\",\"NEGATIVE\",\"POSITIVE\",\"POSITIVE\",\"POSITIVE\",\"POSITIVE\",\"POSITIVE\",\"NEGATIVE\",\"POSITIVE\",\"POSITIVE\",\"POSITIVE\",\"POSITIVE\",\"POSITIVE\",\"POSITIVE\",\"NEGATIVE\",\"POSITIVE\",\"POSITIVE\",\"NEGATIVE\",\"NEGATIVE\",\"POSITIVE\",\"POSITIVE\",\"POSITIVE\",\"POSITIVE\",\"POSITIVE\",\"POSITIVE\",\"POSITIVE\",\"POSITIVE\",\"POSITIVE\",\"NEGATIVE\",\"POSITIVE\",\"POSITIVE\",\"POSITIVE\",\"POSITIVE\",\"NEGATIVE\",\"POSITIVE\",\"POSITIVE\",\"POSITIVE\",\"POSITIVE\",\"POSITIVE\",\"NEGATIVE\",\"POSITIVE\",\"POSITIVE\",\"POSITIVE\",\"POSITIVE\",\"POSITIVE\",\"POSITIVE\",\"POSITIVE\",\"POSITIVE\",\"POSITIVE\",\"POSITIVE\",\"POSITIVE\",\"NEGATIVE\",\"NEGATIVE\",\"NEGATIVE\",\"POSITIVE\",\"POSITIVE\",\"POSITIVE\",\"POSITIVE\",\"POSITIVE\",\"POSITIVE\",\"POSITIVE\",\"POSITIVE\",\"NEGATIVE\",\"POSITIVE\",\"POSITIVE\",\"POSITIVE\",\"NEGATIVE\",\"POSITIVE\",\"POSITIVE\",\"POSITIVE\",\"NEGATIVE\",\"POSITIVE\",\"POSITIVE\",\"POSITIVE\",\"POSITIVE\",\"NEGATIVE\",\"POSITIVE\",\"POSITIVE\",\"POSITIVE\",\"POSITIVE\",\"POSITIVE\",\"POSITIVE\",\"NEGATIVE\",\"NEGATIVE\",\"POSITIVE\",\"POSITIVE\",\"POSITIVE\",\"POSITIVE\",\"POSITIVE\",\"POSITIVE\",\"POSITIVE\",\"POSITIVE\",\"POSITIVE\",\"POSITIVE\",\"POSITIVE\",\"NEGATIVE\",\"POSITIVE\",\"POSITIVE\",\"POSITIVE\",\"POSITIVE\",\"POSITIVE\",\"POSITIVE\",\"POSITIVE\",\"POSITIVE\",\"POSITIVE\",\"POSITIVE\",\"POSITIVE\",\"NEGATIVE\",\"POSITIVE\",\"POSITIVE\",\"POSITIVE\",\"POSITIVE\",\"POSITIVE\",\"POSITIVE\",\"POSITIVE\",\"NEGATIVE\",\"POSITIVE\",\"POSITIVE\",\"POSITIVE\",\"NEGATIVE\",\"POSITIVE\",\"POSITIVE\",\"POSITIVE\",\"POSITIVE\",\"POSITIVE\",\"POSITIVE\",\"POSITIVE\",\"POSITIVE\",\"POSITIVE\",\"POSITIVE\",\"POSITIVE\",\"POSITIVE\",\"POSITIVE\",\"POSITIVE\",\"POSITIVE\",\"POSITIVE\",\"NEGATIVE\",\"POSITIVE\",\"POSITIVE\",\"POSITIVE\",\"NEGATIVE\",\"POSITIVE\",\"NEGATIVE\",\"POSITIVE\",\"NEGATIVE\",\"POSITIVE\",\"POSITIVE\",\"POSITIVE\",\"POSITIVE\",\"POSITIVE\",\"NEGATIVE\",\"POSITIVE\",\"NEGATIVE\",\"POSITIVE\",\"NEGATIVE\",\"POSITIVE\",\"POSITIVE\",\"POSITIVE\",\"NEGATIVE\",\"POSITIVE\",\"POSITIVE\",\"POSITIVE\",\"POSITIVE\",\"NEGATIVE\",\"POSITIVE\",\"POSITIVE\",\"POSITIVE\",\"POSITIVE\",\"POSITIVE\",\"POSITIVE\",\"NEGATIVE\",\"POSITIVE\",\"NEGATIVE\",\"POSITIVE\",\"POSITIVE\",\"POSITIVE\",\"NEGATIVE\",\"POSITIVE\",\"POSITIVE\",\"POSITIVE\",\"POSITIVE\",\"POSITIVE\",\"NEGATIVE\",\"POSITIVE\",\"POSITIVE\",\"POSITIVE\",\"NEGATIVE\",\"POSITIVE\",\"POSITIVE\",\"POSITIVE\",\"POSITIVE\",\"POSITIVE\",\"POSITIVE\",\"POSITIVE\",\"POSITIVE\",\"POSITIVE\",\"NEGATIVE\",\"POSITIVE\",\"POSITIVE\",\"POSITIVE\",\"POSITIVE\",\"POSITIVE\",\"NEGATIVE\",\"POSITIVE\",\"POSITIVE\",\"POSITIVE\",\"POSITIVE\",\"POSITIVE\",\"POSITIVE\",\"NEGATIVE\",\"POSITIVE\",\"POSITIVE\",\"POSITIVE\",\"NEGATIVE\",\"POSITIVE\",\"POSITIVE\",\"NEGATIVE\",\"POSITIVE\",\"POSITIVE\",\"POSITIVE\",\"NEGATIVE\",\"POSITIVE\",\"POSITIVE\",\"POSITIVE\",\"POSITIVE\",\"POSITIVE\",\"NEGATIVE\",\"POSITIVE\",\"POSITIVE\",\"POSITIVE\",\"POSITIVE\",\"POSITIVE\",\"NEGATIVE\",\"POSITIVE\",\"POSITIVE\",\"POSITIVE\",\"POSITIVE\",\"NEGATIVE\",\"NEGATIVE\",\"NEGATIVE\",\"POSITIVE\",\"POSITIVE\",\"POSITIVE\",\"POSITIVE\",\"POSITIVE\",\"POSITIVE\",\"POSITIVE\",\"POSITIVE\",\"POSITIVE\",\"POSITIVE\",\"NEGATIVE\",\"POSITIVE\",\"POSITIVE\",\"POSITIVE\",\"POSITIVE\",\"POSITIVE\",\"POSITIVE\",\"POSITIVE\",\"POSITIVE\",\"POSITIVE\",\"POSITIVE\",\"POSITIVE\",\"POSITIVE\",\"POSITIVE\",\"POSITIVE\",\"POSITIVE\",\"POSITIVE\",\"POSITIVE\",\"POSITIVE\",\"POSITIVE\",\"POSITIVE\",\"POSITIVE\",\"POSITIVE\",\"NEGATIVE\",\"POSITIVE\",\"POSITIVE\",\"POSITIVE\",\"POSITIVE\",\"POSITIVE\",\"POSITIVE\",\"POSITIVE\",\"POSITIVE\",\"NEGATIVE\",\"POSITIVE\",\"POSITIVE\",\"POSITIVE\",\"POSITIVE\",\"NEGATIVE\",\"POSITIVE\",\"POSITIVE\",\"POSITIVE\",\"POSITIVE\",\"POSITIVE\",\"POSITIVE\",\"POSITIVE\",\"POSITIVE\",\"POSITIVE\",\"POSITIVE\",\"NEGATIVE\",\"POSITIVE\",\"POSITIVE\",\"POSITIVE\",\"POSITIVE\",\"POSITIVE\",\"POSITIVE\",\"POSITIVE\",\"POSITIVE\",\"POSITIVE\",\"NEGATIVE\",\"NEGATIVE\",\"POSITIVE\",\"POSITIVE\",\"POSITIVE\",\"POSITIVE\",\"POSITIVE\",\"POSITIVE\",\"POSITIVE\",\"POSITIVE\",\"POSITIVE\",\"POSITIVE\",\"POSITIVE\",\"POSITIVE\",\"POSITIVE\",\"POSITIVE\",\"POSITIVE\",\"POSITIVE\",\"POSITIVE\",\"POSITIVE\",\"NEGATIVE\",\"POSITIVE\",\"POSITIVE\",\"POSITIVE\",\"POSITIVE\",\"POSITIVE\",\"POSITIVE\",\"POSITIVE\",\"POSITIVE\",\"POSITIVE\",\"POSITIVE\",\"POSITIVE\",\"NEGATIVE\",\"POSITIVE\",\"POSITIVE\",\"POSITIVE\",\"POSITIVE\",\"POSITIVE\",\"POSITIVE\",\"POSITIVE\",\"POSITIVE\",\"POSITIVE\",\"POSITIVE\",\"POSITIVE\",\"POSITIVE\",\"POSITIVE\",\"POSITIVE\",\"POSITIVE\",\"NEGATIVE\",\"NEGATIVE\",\"POSITIVE\",\"POSITIVE\",\"POSITIVE\",\"POSITIVE\",\"POSITIVE\",\"POSITIVE\",\"POSITIVE\",\"POSITIVE\",\"NEGATIVE\",\"POSITIVE\",\"POSITIVE\",\"POSITIVE\",\"POSITIVE\",\"POSITIVE\",\"POSITIVE\",\"POSITIVE\",\"POSITIVE\",\"POSITIVE\",\"POSITIVE\",\"POSITIVE\",\"POSITIVE\",\"POSITIVE\",\"POSITIVE\",\"POSITIVE\",\"POSITIVE\",\"POSITIVE\",\"POSITIVE\",\"POSITIVE\",\"POSITIVE\",\"POSITIVE\",\"POSITIVE\",\"POSITIVE\",\"POSITIVE\",\"POSITIVE\",\"POSITIVE\",\"POSITIVE\",\"POSITIVE\",\"POSITIVE\",\"POSITIVE\",\"POSITIVE\",\"POSITIVE\",\"POSITIVE\",\"POSITIVE\",\"POSITIVE\",\"POSITIVE\",\"POSITIVE\",\"POSITIVE\",\"NEGATIVE\",\"POSITIVE\",\"POSITIVE\",\"POSITIVE\",\"POSITIVE\",\"POSITIVE\",\"POSITIVE\",\"NEGATIVE\",\"POSITIVE\",\"POSITIVE\",\"POSITIVE\",\"POSITIVE\",\"POSITIVE\",\"POSITIVE\",\"POSITIVE\",\"POSITIVE\",\"POSITIVE\",\"POSITIVE\",\"NEGATIVE\",\"POSITIVE\",\"POSITIVE\",\"POSITIVE\",\"POSITIVE\",\"POSITIVE\",\"POSITIVE\",\"POSITIVE\",\"POSITIVE\",\"POSITIVE\",\"POSITIVE\",\"POSITIVE\",\"POSITIVE\",\"NEGATIVE\",\"POSITIVE\",\"POSITIVE\",\"POSITIVE\",\"NEGATIVE\",\"NEGATIVE\",\"POSITIVE\",\"POSITIVE\",\"NEGATIVE\",\"POSITIVE\",\"POSITIVE\",\"POSITIVE\",\"NEGATIVE\",\"POSITIVE\",\"NEGATIVE\",\"POSITIVE\",\"POSITIVE\",\"POSITIVE\",\"POSITIVE\",\"NEGATIVE\",\"NEGATIVE\",\"POSITIVE\",\"NEGATIVE\",\"NEGATIVE\",\"NEGATIVE\",\"NEGATIVE\",\"POSITIVE\",\"POSITIVE\",\"POSITIVE\",\"POSITIVE\",\"POSITIVE\",\"POSITIVE\",\"POSITIVE\",\"POSITIVE\",\"POSITIVE\",\"POSITIVE\",\"POSITIVE\",\"POSITIVE\",\"NEGATIVE\",\"POSITIVE\",\"POSITIVE\",\"POSITIVE\",\"NEGATIVE\",\"NEGATIVE\",\"POSITIVE\",\"POSITIVE\",\"POSITIVE\",\"POSITIVE\",\"NEGATIVE\",\"POSITIVE\",\"POSITIVE\",\"POSITIVE\",\"POSITIVE\",\"POSITIVE\",\"POSITIVE\",\"POSITIVE\",\"POSITIVE\",\"NEGATIVE\",\"POSITIVE\",\"POSITIVE\",\"POSITIVE\",\"POSITIVE\",\"POSITIVE\",\"NEGATIVE\",\"POSITIVE\",\"POSITIVE\",\"POSITIVE\",\"POSITIVE\",\"POSITIVE\",\"POSITIVE\",\"NEGATIVE\",\"POSITIVE\",\"POSITIVE\",\"NEGATIVE\",\"POSITIVE\",\"POSITIVE\",\"POSITIVE\",\"POSITIVE\",\"NEGATIVE\",\"NEGATIVE\",\"NEGATIVE\",\"POSITIVE\",\"POSITIVE\",\"NEGATIVE\",\"NEGATIVE\",\"POSITIVE\",\"POSITIVE\",\"NEGATIVE\",\"POSITIVE\",\"POSITIVE\",\"POSITIVE\",\"POSITIVE\",\"POSITIVE\",\"POSITIVE\",\"POSITIVE\",\"POSITIVE\",\"POSITIVE\",\"POSITIVE\",\"POSITIVE\",\"POSITIVE\",\"POSITIVE\",\"POSITIVE\",\"POSITIVE\",\"POSITIVE\",\"POSITIVE\",\"POSITIVE\",\"POSITIVE\",\"POSITIVE\",\"POSITIVE\",\"POSITIVE\",\"NEGATIVE\",\"POSITIVE\",\"POSITIVE\",\"POSITIVE\",\"POSITIVE\",\"POSITIVE\",\"NEGATIVE\",\"NEGATIVE\",\"POSITIVE\",\"POSITIVE\",\"POSITIVE\",\"NEGATIVE\",\"POSITIVE\",\"NEGATIVE\",\"POSITIVE\",\"POSITIVE\",\"POSITIVE\",\"POSITIVE\",\"POSITIVE\",\"NEGATIVE\",\"POSITIVE\",\"POSITIVE\",\"NEGATIVE\",\"POSITIVE\",\"POSITIVE\",\"POSITIVE\",\"POSITIVE\",\"POSITIVE\",\"POSITIVE\",\"POSITIVE\",\"POSITIVE\",\"POSITIVE\",\"POSITIVE\",\"POSITIVE\",\"NEGATIVE\",\"NEGATIVE\",\"NEGATIVE\",\"POSITIVE\",\"POSITIVE\",\"POSITIVE\",\"POSITIVE\",\"POSITIVE\",\"POSITIVE\",\"POSITIVE\",\"POSITIVE\",\"POSITIVE\",\"POSITIVE\",\"POSITIVE\",\"POSITIVE\",\"POSITIVE\",\"POSITIVE\",\"POSITIVE\",\"POSITIVE\",\"POSITIVE\",\"POSITIVE\",\"POSITIVE\",\"POSITIVE\",\"POSITIVE\",\"POSITIVE\",\"POSITIVE\",\"POSITIVE\",\"POSITIVE\",\"POSITIVE\",\"POSITIVE\",\"POSITIVE\",\"POSITIVE\",\"POSITIVE\",\"NEGATIVE\",\"POSITIVE\",\"POSITIVE\",\"POSITIVE\",\"POSITIVE\",\"POSITIVE\",\"POSITIVE\",\"POSITIVE\",\"POSITIVE\",\"POSITIVE\",\"POSITIVE\",\"POSITIVE\",\"NEGATIVE\",\"POSITIVE\",\"POSITIVE\",\"POSITIVE\",\"POSITIVE\",\"POSITIVE\",\"POSITIVE\",\"POSITIVE\",\"POSITIVE\",\"POSITIVE\",\"POSITIVE\",\"POSITIVE\",\"POSITIVE\",\"POSITIVE\",\"POSITIVE\",\"POSITIVE\",\"POSITIVE\",\"POSITIVE\",\"POSITIVE\",\"NEGATIVE\",\"POSITIVE\",\"POSITIVE\",\"NEGATIVE\",\"POSITIVE\",\"POSITIVE\",\"POSITIVE\",\"POSITIVE\",\"POSITIVE\",\"NEGATIVE\",\"POSITIVE\",\"POSITIVE\",\"POSITIVE\",\"POSITIVE\",\"POSITIVE\",\"POSITIVE\",\"POSITIVE\",\"POSITIVE\",\"POSITIVE\",\"NEGATIVE\",\"NEGATIVE\",\"POSITIVE\",\"POSITIVE\",\"NEGATIVE\",\"NEGATIVE\",\"POSITIVE\",\"POSITIVE\",\"NEGATIVE\",\"POSITIVE\",\"POSITIVE\",\"POSITIVE\",\"POSITIVE\",\"POSITIVE\",\"NEGATIVE\",\"POSITIVE\",\"POSITIVE\",\"POSITIVE\",\"POSITIVE\",\"POSITIVE\",\"POSITIVE\",\"POSITIVE\",\"POSITIVE\",\"POSITIVE\",\"POSITIVE\",\"POSITIVE\",\"POSITIVE\",\"POSITIVE\",\"POSITIVE\",\"POSITIVE\",\"POSITIVE\",\"POSITIVE\",\"POSITIVE\",\"NEGATIVE\",\"POSITIVE\",\"POSITIVE\",\"POSITIVE\",\"POSITIVE\",\"POSITIVE\",\"POSITIVE\",\"NEGATIVE\",\"POSITIVE\",\"POSITIVE\",\"POSITIVE\",\"POSITIVE\",\"POSITIVE\",\"POSITIVE\",\"POSITIVE\",\"POSITIVE\",\"POSITIVE\",\"POSITIVE\",\"POSITIVE\",\"POSITIVE\",\"POSITIVE\",\"NEGATIVE\",\"POSITIVE\",\"POSITIVE\",\"POSITIVE\",\"POSITIVE\",\"POSITIVE\",\"POSITIVE\",\"POSITIVE\",\"POSITIVE\",\"POSITIVE\",\"POSITIVE\",\"POSITIVE\",\"POSITIVE\",\"POSITIVE\",\"POSITIVE\",\"POSITIVE\",\"POSITIVE\",\"POSITIVE\",\"POSITIVE\",\"POSITIVE\",\"NEGATIVE\",\"POSITIVE\",\"POSITIVE\",\"POSITIVE\",\"POSITIVE\",\"POSITIVE\",\"POSITIVE\",\"POSITIVE\",\"POSITIVE\",\"POSITIVE\",\"POSITIVE\",\"POSITIVE\",\"POSITIVE\",\"POSITIVE\",\"POSITIVE\"],\"xaxis\":\"x\",\"yaxis\":\"y\",\"type\":\"histogram\"}],                        {\"template\":{\"data\":{\"histogram2dcontour\":[{\"type\":\"histogram2dcontour\",\"colorbar\":{\"outlinewidth\":0,\"ticks\":\"\"},\"colorscale\":[[0.0,\"#0d0887\"],[0.1111111111111111,\"#46039f\"],[0.2222222222222222,\"#7201a8\"],[0.3333333333333333,\"#9c179e\"],[0.4444444444444444,\"#bd3786\"],[0.5555555555555556,\"#d8576b\"],[0.6666666666666666,\"#ed7953\"],[0.7777777777777778,\"#fb9f3a\"],[0.8888888888888888,\"#fdca26\"],[1.0,\"#f0f921\"]]}],\"choropleth\":[{\"type\":\"choropleth\",\"colorbar\":{\"outlinewidth\":0,\"ticks\":\"\"}}],\"histogram2d\":[{\"type\":\"histogram2d\",\"colorbar\":{\"outlinewidth\":0,\"ticks\":\"\"},\"colorscale\":[[0.0,\"#0d0887\"],[0.1111111111111111,\"#46039f\"],[0.2222222222222222,\"#7201a8\"],[0.3333333333333333,\"#9c179e\"],[0.4444444444444444,\"#bd3786\"],[0.5555555555555556,\"#d8576b\"],[0.6666666666666666,\"#ed7953\"],[0.7777777777777778,\"#fb9f3a\"],[0.8888888888888888,\"#fdca26\"],[1.0,\"#f0f921\"]]}],\"heatmap\":[{\"type\":\"heatmap\",\"colorbar\":{\"outlinewidth\":0,\"ticks\":\"\"},\"colorscale\":[[0.0,\"#0d0887\"],[0.1111111111111111,\"#46039f\"],[0.2222222222222222,\"#7201a8\"],[0.3333333333333333,\"#9c179e\"],[0.4444444444444444,\"#bd3786\"],[0.5555555555555556,\"#d8576b\"],[0.6666666666666666,\"#ed7953\"],[0.7777777777777778,\"#fb9f3a\"],[0.8888888888888888,\"#fdca26\"],[1.0,\"#f0f921\"]]}],\"heatmapgl\":[{\"type\":\"heatmapgl\",\"colorbar\":{\"outlinewidth\":0,\"ticks\":\"\"},\"colorscale\":[[0.0,\"#0d0887\"],[0.1111111111111111,\"#46039f\"],[0.2222222222222222,\"#7201a8\"],[0.3333333333333333,\"#9c179e\"],[0.4444444444444444,\"#bd3786\"],[0.5555555555555556,\"#d8576b\"],[0.6666666666666666,\"#ed7953\"],[0.7777777777777778,\"#fb9f3a\"],[0.8888888888888888,\"#fdca26\"],[1.0,\"#f0f921\"]]}],\"contourcarpet\":[{\"type\":\"contourcarpet\",\"colorbar\":{\"outlinewidth\":0,\"ticks\":\"\"}}],\"contour\":[{\"type\":\"contour\",\"colorbar\":{\"outlinewidth\":0,\"ticks\":\"\"},\"colorscale\":[[0.0,\"#0d0887\"],[0.1111111111111111,\"#46039f\"],[0.2222222222222222,\"#7201a8\"],[0.3333333333333333,\"#9c179e\"],[0.4444444444444444,\"#bd3786\"],[0.5555555555555556,\"#d8576b\"],[0.6666666666666666,\"#ed7953\"],[0.7777777777777778,\"#fb9f3a\"],[0.8888888888888888,\"#fdca26\"],[1.0,\"#f0f921\"]]}],\"surface\":[{\"type\":\"surface\",\"colorbar\":{\"outlinewidth\":0,\"ticks\":\"\"},\"colorscale\":[[0.0,\"#0d0887\"],[0.1111111111111111,\"#46039f\"],[0.2222222222222222,\"#7201a8\"],[0.3333333333333333,\"#9c179e\"],[0.4444444444444444,\"#bd3786\"],[0.5555555555555556,\"#d8576b\"],[0.6666666666666666,\"#ed7953\"],[0.7777777777777778,\"#fb9f3a\"],[0.8888888888888888,\"#fdca26\"],[1.0,\"#f0f921\"]]}],\"mesh3d\":[{\"type\":\"mesh3d\",\"colorbar\":{\"outlinewidth\":0,\"ticks\":\"\"}}],\"scatter\":[{\"fillpattern\":{\"fillmode\":\"overlay\",\"size\":10,\"solidity\":0.2},\"type\":\"scatter\"}],\"parcoords\":[{\"type\":\"parcoords\",\"line\":{\"colorbar\":{\"outlinewidth\":0,\"ticks\":\"\"}}}],\"scatterpolargl\":[{\"type\":\"scatterpolargl\",\"marker\":{\"colorbar\":{\"outlinewidth\":0,\"ticks\":\"\"}}}],\"bar\":[{\"error_x\":{\"color\":\"#2a3f5f\"},\"error_y\":{\"color\":\"#2a3f5f\"},\"marker\":{\"line\":{\"color\":\"#E5ECF6\",\"width\":0.5},\"pattern\":{\"fillmode\":\"overlay\",\"size\":10,\"solidity\":0.2}},\"type\":\"bar\"}],\"scattergeo\":[{\"type\":\"scattergeo\",\"marker\":{\"colorbar\":{\"outlinewidth\":0,\"ticks\":\"\"}}}],\"scatterpolar\":[{\"type\":\"scatterpolar\",\"marker\":{\"colorbar\":{\"outlinewidth\":0,\"ticks\":\"\"}}}],\"histogram\":[{\"marker\":{\"pattern\":{\"fillmode\":\"overlay\",\"size\":10,\"solidity\":0.2}},\"type\":\"histogram\"}],\"scattergl\":[{\"type\":\"scattergl\",\"marker\":{\"colorbar\":{\"outlinewidth\":0,\"ticks\":\"\"}}}],\"scatter3d\":[{\"type\":\"scatter3d\",\"line\":{\"colorbar\":{\"outlinewidth\":0,\"ticks\":\"\"}},\"marker\":{\"colorbar\":{\"outlinewidth\":0,\"ticks\":\"\"}}}],\"scattermapbox\":[{\"type\":\"scattermapbox\",\"marker\":{\"colorbar\":{\"outlinewidth\":0,\"ticks\":\"\"}}}],\"scatterternary\":[{\"type\":\"scatterternary\",\"marker\":{\"colorbar\":{\"outlinewidth\":0,\"ticks\":\"\"}}}],\"scattercarpet\":[{\"type\":\"scattercarpet\",\"marker\":{\"colorbar\":{\"outlinewidth\":0,\"ticks\":\"\"}}}],\"carpet\":[{\"aaxis\":{\"endlinecolor\":\"#2a3f5f\",\"gridcolor\":\"white\",\"linecolor\":\"white\",\"minorgridcolor\":\"white\",\"startlinecolor\":\"#2a3f5f\"},\"baxis\":{\"endlinecolor\":\"#2a3f5f\",\"gridcolor\":\"white\",\"linecolor\":\"white\",\"minorgridcolor\":\"white\",\"startlinecolor\":\"#2a3f5f\"},\"type\":\"carpet\"}],\"table\":[{\"cells\":{\"fill\":{\"color\":\"#EBF0F8\"},\"line\":{\"color\":\"white\"}},\"header\":{\"fill\":{\"color\":\"#C8D4E3\"},\"line\":{\"color\":\"white\"}},\"type\":\"table\"}],\"barpolar\":[{\"marker\":{\"line\":{\"color\":\"#E5ECF6\",\"width\":0.5},\"pattern\":{\"fillmode\":\"overlay\",\"size\":10,\"solidity\":0.2}},\"type\":\"barpolar\"}],\"pie\":[{\"automargin\":true,\"type\":\"pie\"}]},\"layout\":{\"autotypenumbers\":\"strict\",\"colorway\":[\"#636efa\",\"#EF553B\",\"#00cc96\",\"#ab63fa\",\"#FFA15A\",\"#19d3f3\",\"#FF6692\",\"#B6E880\",\"#FF97FF\",\"#FECB52\"],\"font\":{\"color\":\"#2a3f5f\"},\"hovermode\":\"closest\",\"hoverlabel\":{\"align\":\"left\"},\"paper_bgcolor\":\"white\",\"plot_bgcolor\":\"#E5ECF6\",\"polar\":{\"bgcolor\":\"#E5ECF6\",\"angularaxis\":{\"gridcolor\":\"white\",\"linecolor\":\"white\",\"ticks\":\"\"},\"radialaxis\":{\"gridcolor\":\"white\",\"linecolor\":\"white\",\"ticks\":\"\"}},\"ternary\":{\"bgcolor\":\"#E5ECF6\",\"aaxis\":{\"gridcolor\":\"white\",\"linecolor\":\"white\",\"ticks\":\"\"},\"baxis\":{\"gridcolor\":\"white\",\"linecolor\":\"white\",\"ticks\":\"\"},\"caxis\":{\"gridcolor\":\"white\",\"linecolor\":\"white\",\"ticks\":\"\"}},\"coloraxis\":{\"colorbar\":{\"outlinewidth\":0,\"ticks\":\"\"}},\"colorscale\":{\"sequential\":[[0.0,\"#0d0887\"],[0.1111111111111111,\"#46039f\"],[0.2222222222222222,\"#7201a8\"],[0.3333333333333333,\"#9c179e\"],[0.4444444444444444,\"#bd3786\"],[0.5555555555555556,\"#d8576b\"],[0.6666666666666666,\"#ed7953\"],[0.7777777777777778,\"#fb9f3a\"],[0.8888888888888888,\"#fdca26\"],[1.0,\"#f0f921\"]],\"sequentialminus\":[[0.0,\"#0d0887\"],[0.1111111111111111,\"#46039f\"],[0.2222222222222222,\"#7201a8\"],[0.3333333333333333,\"#9c179e\"],[0.4444444444444444,\"#bd3786\"],[0.5555555555555556,\"#d8576b\"],[0.6666666666666666,\"#ed7953\"],[0.7777777777777778,\"#fb9f3a\"],[0.8888888888888888,\"#fdca26\"],[1.0,\"#f0f921\"]],\"diverging\":[[0,\"#8e0152\"],[0.1,\"#c51b7d\"],[0.2,\"#de77ae\"],[0.3,\"#f1b6da\"],[0.4,\"#fde0ef\"],[0.5,\"#f7f7f7\"],[0.6,\"#e6f5d0\"],[0.7,\"#b8e186\"],[0.8,\"#7fbc41\"],[0.9,\"#4d9221\"],[1,\"#276419\"]]},\"xaxis\":{\"gridcolor\":\"white\",\"linecolor\":\"white\",\"ticks\":\"\",\"title\":{\"standoff\":15},\"zerolinecolor\":\"white\",\"automargin\":true,\"zerolinewidth\":2},\"yaxis\":{\"gridcolor\":\"white\",\"linecolor\":\"white\",\"ticks\":\"\",\"title\":{\"standoff\":15},\"zerolinecolor\":\"white\",\"automargin\":true,\"zerolinewidth\":2},\"scene\":{\"xaxis\":{\"backgroundcolor\":\"#E5ECF6\",\"gridcolor\":\"white\",\"linecolor\":\"white\",\"showbackground\":true,\"ticks\":\"\",\"zerolinecolor\":\"white\",\"gridwidth\":2},\"yaxis\":{\"backgroundcolor\":\"#E5ECF6\",\"gridcolor\":\"white\",\"linecolor\":\"white\",\"showbackground\":true,\"ticks\":\"\",\"zerolinecolor\":\"white\",\"gridwidth\":2},\"zaxis\":{\"backgroundcolor\":\"#E5ECF6\",\"gridcolor\":\"white\",\"linecolor\":\"white\",\"showbackground\":true,\"ticks\":\"\",\"zerolinecolor\":\"white\",\"gridwidth\":2}},\"shapedefaults\":{\"line\":{\"color\":\"#2a3f5f\"}},\"annotationdefaults\":{\"arrowcolor\":\"#2a3f5f\",\"arrowhead\":0,\"arrowwidth\":1},\"geo\":{\"bgcolor\":\"white\",\"landcolor\":\"#E5ECF6\",\"subunitcolor\":\"white\",\"showland\":true,\"showlakes\":true,\"lakecolor\":\"white\"},\"title\":{\"x\":0.05},\"mapbox\":{\"style\":\"light\"}}},\"xaxis\":{\"anchor\":\"y\",\"domain\":[0.0,1.0],\"title\":{\"text\":\"sentimentt\"}},\"yaxis\":{\"anchor\":\"x\",\"domain\":[0.0,1.0],\"title\":{\"text\":\"count\"}},\"legend\":{\"tracegroupgap\":0},\"margin\":{\"t\":60},\"barmode\":\"relative\",\"title\":{\"text\":\"Product Sentiment\"}},                        {\"responsive\": true}                    ).then(function(){\n",
       "                            \n",
       "var gd = document.getElementById('a1050e82-3382-45b0-9cf3-76cdd422a4c6');\n",
       "var x = new MutationObserver(function (mutations, observer) {{\n",
       "        var display = window.getComputedStyle(gd).display;\n",
       "        if (!display || display === 'none') {{\n",
       "            console.log([gd, 'removed!']);\n",
       "            Plotly.purge(gd);\n",
       "            observer.disconnect();\n",
       "        }}\n",
       "}});\n",
       "\n",
       "// Listen for the removal of the full notebook cells\n",
       "var notebookContainer = gd.closest('#notebook-container');\n",
       "if (notebookContainer) {{\n",
       "    x.observe(notebookContainer, {childList: true});\n",
       "}}\n",
       "\n",
       "// Listen for the clearing of the current output cell\n",
       "var outputEl = gd.closest('.output');\n",
       "if (outputEl) {{\n",
       "    x.observe(outputEl, {childList: true});\n",
       "}}\n",
       "\n",
       "                        })                };                });            </script>        </div>"
      ]
     },
     "metadata": {},
     "output_type": "display_data"
    }
   ],
   "source": [
    "\n",
    "\n",
    "#Distribution of sentiments amongst samples.\n",
    "df['sentimentt'] = df['sentiment'].replace({0 : 'NEGATIVE'})\n",
    "df['sentimentt'] = df['sentimentt'].replace({1 : 'POSITIVE'})\n",
    "fig = px.histogram(df, x=\"sentimentt\")\n",
    "fig.update_traces(marker_color=\"indianred\",marker_line_color='rgb(8,48,107)',\n",
    "                  marker_line_width=1.5)\n",
    "fig.update_layout(title_text='Product Sentiment')\n",
    "fig.show()\n"
   ]
  },
  {
   "cell_type": "code",
   "execution_count": 63,
   "id": "b628776b",
   "metadata": {},
   "outputs": [
    {
     "data": {
      "image/png": "[encoded data removed]",
      "text/plain": [
       "<Figure size 1440x1440 with 1 Axes>"
      ]
     },
     "metadata": {
      "needs_background": "light"
     },
     "output_type": "display_data"
    }
   ],
   "source": [
    "# wordcloud function\n",
    "def show_wordcloud(data, title = None):\n",
    "    wordcloud = WordCloud(\n",
    "        background_color = 'white',\n",
    "        max_words = 200,\n",
    "        max_font_size = 40, \n",
    "        scale = 3,\n",
    "        random_state = 42\n",
    "    ).generate(str(data))\n",
    "\n",
    "    fig = plt.figure(1, figsize = (20, 20))\n",
    "    plt.axis('off')\n",
    "    if title: \n",
    "        fig.suptitle(title, fontsize = 20)\n",
    "        fig.subplots_adjust(top = 2.3)\n",
    "\n",
    "    plt.imshow(wordcloud)\n",
    "    plt.show()\n",
    "    \n",
    "# print wordcloud\n",
    "show_wordcloud(dfNew[\"review_clean\"])"
   ]
  },
  {
   "cell_type": "markdown",
   "id": "3a19a57f",
   "metadata": {},
   "source": [
    "# Building a Sentiment Classifier (SVM)"
   ]
  },
  {
   "cell_type": "code",
   "execution_count": 64,
   "id": "80c1f033",
   "metadata": {},
   "outputs": [],
   "source": [
    "# Split the data\n",
    "train, test = train_test_split(dfNew, test_size=0.2, random_state=1)\n",
    "X_train = train['review_clean'].values\n",
    "X_test = test['review_clean'].values\n",
    "y_train = train['sentiment']\n",
    "y_test = test['sentiment']"
   ]
  },
  {
   "cell_type": "code",
   "execution_count": 65,
   "id": "c1c5f273",
   "metadata": {},
   "outputs": [
    {
     "name": "stdout",
     "output_type": "stream",
     "text": [
      "Fitting 5 folds for each of 3 candidates, totalling 15 fits\n"
     ]
    },
    {
     "data": {
      "text/plain": [
       "0.8684129901960783"
      ]
     },
     "execution_count": 65,
     "metadata": {},
     "output_type": "execute_result"
    }
   ],
   "source": [
    "#  Build the model, Cross validation and Grid search \n",
    "kfolds = StratifiedKFold(n_splits=5, shuffle=True, random_state=1)\n",
    "\n",
    "np.random.seed(1)\n",
    "\n",
    "vectorizer = CountVectorizer()\n",
    "\n",
    "pipeline_svm = make_pipeline(vectorizer, \n",
    "                            SVC(probability=True, kernel=\"linear\", class_weight=\"balanced\"))\n",
    "\n",
    "grid_svm = GridSearchCV(pipeline_svm,\n",
    "                    param_grid = {'svc__C': [0.01, 0.1, 1]}, \n",
    "                    cv = kfolds,\n",
    "                    scoring=\"roc_auc\",\n",
    "                    verbose=1,   \n",
    "                    n_jobs=-1) \n",
    "\n",
    "grid_svm.fit(X_train, y_train)\n",
    "grid_svm.score(X_test, y_test)"
   ]
  },
  {
   "cell_type": "code",
   "execution_count": 66,
   "id": "d3f2f2df",
   "metadata": {},
   "outputs": [
    {
     "data": {
      "text/plain": [
       "{'svc__C': 0.01}"
      ]
     },
     "execution_count": 66,
     "metadata": {},
     "output_type": "execute_result"
    }
   ],
   "source": [
    "grid_svm.best_params_"
   ]
  },
  {
   "cell_type": "code",
   "execution_count": 67,
   "id": "0b6d6238",
   "metadata": {},
   "outputs": [
    {
     "data": {
      "text/plain": [
       "0.8770806007648113"
      ]
     },
     "execution_count": 67,
     "metadata": {},
     "output_type": "execute_result"
    }
   ],
   "source": [
    "grid_svm.best_score_"
   ]
  },
  {
   "cell_type": "code",
   "execution_count": 68,
   "id": "f4db57a8",
   "metadata": {},
   "outputs": [],
   "source": [
    "def report_results(model, X, y):\n",
    "    pred_proba = model.predict_proba(X)[:, 1]\n",
    "    pred = model.predict(X)        \n",
    "\n",
    "    auc = roc_auc_score(y, pred_proba)\n",
    "    acc = accuracy_score(y, pred)\n",
    "    f1 = f1_score(y, pred)\n",
    "    prec = precision_score(y, pred)\n",
    "    rec = recall_score(y, pred)\n",
    "    result = {'auc': auc, 'f1': f1, 'acc': acc, 'precision': prec, 'recall': rec}\n",
    "    return result"
   ]
  },
  {
   "cell_type": "code",
   "execution_count": 69,
   "id": "764b2861",
   "metadata": {},
   "outputs": [
    {
     "data": {
      "text/plain": [
       "{'auc': 0.8684129901960783,\n",
       " 'f1': 0.9186046511627908,\n",
       " 'acc': 0.8631921824104235,\n",
       " 'precision': 0.9115384615384615,\n",
       " 'recall': 0.92578125}"
      ]
     },
     "execution_count": 69,
     "metadata": {},
     "output_type": "execute_result"
    }
   ],
   "source": [
    "# Model evaluation\n",
    "report_results(grid_svm.best_estimator_, X_test, y_test)"
   ]
  },
  {
   "cell_type": "code",
   "execution_count": 70,
   "id": "dc6c168a",
   "metadata": {},
   "outputs": [],
   "source": [
    "# Roc curve plot\n",
    "def get_roc_curve(model, X, y):\n",
    "    pred_proba = model.predict_proba(X)[:, 1]\n",
    "    fpr, tpr, _ = roc_curve(y, pred_proba)\n",
    "    return fpr, tpr"
   ]
  },
  {
   "cell_type": "code",
   "execution_count": 71,
   "id": "8f2e8d46",
   "metadata": {},
   "outputs": [],
   "source": [
    "roc_svm = get_roc_curve(grid_svm.best_estimator_, X_test, y_test)"
   ]
  },
  {
   "cell_type": "code",
   "execution_count": 72,
   "id": "762e4107",
   "metadata": {},
   "outputs": [
    {
     "data": {
      "image/png": "[encoded data removed]",
      "text/plain": [
       "<Figure size 1008x576 with 1 Axes>"
      ]
     },
     "metadata": {
      "needs_background": "light"
     },
     "output_type": "display_data"
    }
   ],
   "source": [
    "fpr, tpr = roc_svm\n",
    "plt.figure(figsize=(14,8))\n",
    "plt.plot(fpr, tpr, color=\"red\")\n",
    "plt.plot([0, 1], [0, 1], color='black', lw=2, linestyle='--')\n",
    "plt.xlim([0.0, 1.0])\n",
    "plt.ylim([0.0, 1.05])\n",
    "plt.xlabel('False Positive Rate')\n",
    "plt.ylabel('True Positive Rate')\n",
    "plt.title('Roc curve')\n",
    "plt.show()"
   ]
  }
 ],
 "metadata": {
  "kernelspec": {
   "display_name": "Python 3 (ipykernel)",
   "language": "python",
   "name": "python3"
  },
  "language_info": {
   "codemirror_mode": {
    "name": "ipython",
    "version": 3
   },
   "file_extension": ".py",
   "mimetype": "text/x-python",
   "name": "python",
   "nbconvert_exporter": "python",
   "pygments_lexer": "ipython3",
   "version": "3.9.7"
  }
 },
 "nbformat": 4,
 "nbformat_minor": 5
}
